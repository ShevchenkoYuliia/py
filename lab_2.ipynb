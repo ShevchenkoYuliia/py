{
 "cells": [
  {
   "cell_type": "markdown",
   "id": "d47ff9bbaf3d5836",
   "metadata": {},
   "source": [
    "# Lab work #2\n",
    "# Yuliia Shevchenko\n",
    "# CS32\n",
    "# Variant 0"
   ]
  },
  {
   "cell_type": "markdown",
   "id": "334e5adbb7e8cf08",
   "metadata": {},
   "source": [
    "# The lab work task\n",
    "Solve the regression problem for the one of the presented datasets using the same steps into your work.\n",
    "To get you variant: (your_num % 9), where your_num is your number in the group list.\n",
    "\n",
    "In addition to presented in the example methods consider other ML methods like Support Vector Machine, Gradient Boosting Regression, Bayesian Ridge Regression.\n",
    "\n",
    "Present your work in the Jupyter Notebook variant\n",
    "\n",
    "P.s. in provided data sources you can find examples of solving this problem, but be ready to explain the code and results."
   ]
  },
  {
   "cell_type": "markdown",
   "id": "857e9571510c123c",
   "metadata": {},
   "source": [
    "# Data to choose\n",
    "0. [Gold Price Prediction](https://www.kaggle.com/datasets/franciscogcc/financial-data)\n",
    "1. [Possum Regression](https://www.kaggle.com/datasets/abrambeyer/openintro-possum/data)\n",
    "2. [Student Performance](https://www.kaggle.com/datasets/nikhil7280/student-performance-multiple-linear-regression)\n",
    "3. [Boston House Prices](https://www.kaggle.com/datasets/fedesoriano/the-boston-houseprice-data/data)\n",
    "4. [Car Price](https://www.kaggle.com/datasets/hellbuoy/car-price-prediction)\n",
    "5. [Medical Cost](https://www.kaggle.com/datasets/mirichoi0218/insurance)\n",
    "6. [Crab Age Prediction](https://www.kaggle.com/datasets/sidhus/crab-age-prediction)\n",
    "7. [Calculate Concrete Strength](https://www.kaggle.com/datasets/prathamtripathi/regression-with-neural-networking)\n",
    "8. [Advertising dataset](https://www.kaggle.com/datasets/tawfikelmetwally/advertising-dataset)"
   ]
  },
  {
   "cell_type": "code",
   "id": "a6c0c4ec48b6c349",
   "metadata": {
    "ExecuteTime": {
     "end_time": "2025-05-11T22:57:04.287940Z",
     "start_time": "2025-05-11T22:57:03.158315Z"
    }
   },
   "source": [
    "import os\n",
    "\n",
    "import numpy as np  # linear algebra\n",
    "import pandas as pd\n",
    "\n",
    "import seaborn as sns\n",
    "import matplotlib.pyplot as plt\n",
    "%matplotlib inline\n",
    "\n",
    "import warnings\n",
    "\n",
    "warnings.filterwarnings('ignore')\n",
    "from sklearn.model_selection import train_test_split\n",
    "from sklearn.pipeline import Pipeline\n",
    "from sklearn import metrics\n",
    "from sklearn.linear_model import LinearRegression, Lasso\n",
    "from sklearn.linear_model import BayesianRidge\n",
    "from sklearn.tree import DecisionTreeRegressor\n",
    "from sklearn.ensemble import (RandomForestRegressor)\n",
    "\n",
    "from sklearn.model_selection import GridSearchCV"
   ],
   "outputs": [],
   "execution_count": 1
  },
  {
   "cell_type": "code",
   "id": "441aa46b4a255b3a",
   "metadata": {
    "ExecuteTime": {
     "end_time": "2025-05-11T22:57:04.393561Z",
     "start_time": "2025-05-11T22:57:04.309555Z"
    }
   },
   "source": [
    "df = pd.read_csv(\"financial_regression.csv\")\n",
    "df.head()"
   ],
   "outputs": [
    {
     "data": {
      "text/plain": [
       "         date  sp500 open  sp500 high  sp500 low  sp500 close  sp500 volume  \\\n",
       "0  2010-01-14      114.49      115.14     114.42       114.93   115646960.0   \n",
       "1  2010-01-15      114.73      114.84     113.20       113.64   212252769.0   \n",
       "2  2010-01-18         NaN         NaN        NaN          NaN           NaN   \n",
       "3  2010-01-19      113.62      115.13     113.59       115.06   138671890.0   \n",
       "4  2010-01-20      114.28      114.45     112.98       113.89   216330645.0   \n",
       "\n",
       "   sp500 high-low  nasdaq open  nasdaq high  nasdaq low  ...  palladium high  \\\n",
       "0            0.72        46.26       46.520       46.22  ...           45.02   \n",
       "1            1.64        46.46       46.550       45.65  ...           45.76   \n",
       "2             NaN          NaN          NaN         NaN  ...             NaN   \n",
       "3            1.54        45.96       46.640       45.95  ...           47.08   \n",
       "4            1.47        46.27       46.604       45.43  ...           47.31   \n",
       "\n",
       "   palladium low  palladium close  palladium volume  palladium high-low  \\\n",
       "0          43.86            44.84          364528.0                1.16   \n",
       "1          44.40            45.76          442210.0                1.36   \n",
       "2            NaN              NaN               NaN                 NaN   \n",
       "3          45.70            46.94          629150.0                1.38   \n",
       "4          45.17            47.05          643198.0                2.14   \n",
       "\n",
       "   gold open  gold high  gold low  gold close  gold volume  \n",
       "0     111.51     112.37    110.79      112.03   18305238.0  \n",
       "1     111.35     112.01    110.38      110.86   18000724.0  \n",
       "2        NaN        NaN       NaN         NaN          NaN  \n",
       "3     110.95     111.75    110.83      111.52   10467927.0  \n",
       "4     109.97     110.05    108.46      108.94   17534231.0  \n",
       "\n",
       "[5 rows x 47 columns]"
      ],
      "text/html": [
       "<div>\n",
       "<style scoped>\n",
       "    .dataframe tbody tr th:only-of-type {\n",
       "        vertical-align: middle;\n",
       "    }\n",
       "\n",
       "    .dataframe tbody tr th {\n",
       "        vertical-align: top;\n",
       "    }\n",
       "\n",
       "    .dataframe thead th {\n",
       "        text-align: right;\n",
       "    }\n",
       "</style>\n",
       "<table border=\"1\" class=\"dataframe\">\n",
       "  <thead>\n",
       "    <tr style=\"text-align: right;\">\n",
       "      <th></th>\n",
       "      <th>date</th>\n",
       "      <th>sp500 open</th>\n",
       "      <th>sp500 high</th>\n",
       "      <th>sp500 low</th>\n",
       "      <th>sp500 close</th>\n",
       "      <th>sp500 volume</th>\n",
       "      <th>sp500 high-low</th>\n",
       "      <th>nasdaq open</th>\n",
       "      <th>nasdaq high</th>\n",
       "      <th>nasdaq low</th>\n",
       "      <th>...</th>\n",
       "      <th>palladium high</th>\n",
       "      <th>palladium low</th>\n",
       "      <th>palladium close</th>\n",
       "      <th>palladium volume</th>\n",
       "      <th>palladium high-low</th>\n",
       "      <th>gold open</th>\n",
       "      <th>gold high</th>\n",
       "      <th>gold low</th>\n",
       "      <th>gold close</th>\n",
       "      <th>gold volume</th>\n",
       "    </tr>\n",
       "  </thead>\n",
       "  <tbody>\n",
       "    <tr>\n",
       "      <th>0</th>\n",
       "      <td>2010-01-14</td>\n",
       "      <td>114.49</td>\n",
       "      <td>115.14</td>\n",
       "      <td>114.42</td>\n",
       "      <td>114.93</td>\n",
       "      <td>115646960.0</td>\n",
       "      <td>0.72</td>\n",
       "      <td>46.26</td>\n",
       "      <td>46.520</td>\n",
       "      <td>46.22</td>\n",
       "      <td>...</td>\n",
       "      <td>45.02</td>\n",
       "      <td>43.86</td>\n",
       "      <td>44.84</td>\n",
       "      <td>364528.0</td>\n",
       "      <td>1.16</td>\n",
       "      <td>111.51</td>\n",
       "      <td>112.37</td>\n",
       "      <td>110.79</td>\n",
       "      <td>112.03</td>\n",
       "      <td>18305238.0</td>\n",
       "    </tr>\n",
       "    <tr>\n",
       "      <th>1</th>\n",
       "      <td>2010-01-15</td>\n",
       "      <td>114.73</td>\n",
       "      <td>114.84</td>\n",
       "      <td>113.20</td>\n",
       "      <td>113.64</td>\n",
       "      <td>212252769.0</td>\n",
       "      <td>1.64</td>\n",
       "      <td>46.46</td>\n",
       "      <td>46.550</td>\n",
       "      <td>45.65</td>\n",
       "      <td>...</td>\n",
       "      <td>45.76</td>\n",
       "      <td>44.40</td>\n",
       "      <td>45.76</td>\n",
       "      <td>442210.0</td>\n",
       "      <td>1.36</td>\n",
       "      <td>111.35</td>\n",
       "      <td>112.01</td>\n",
       "      <td>110.38</td>\n",
       "      <td>110.86</td>\n",
       "      <td>18000724.0</td>\n",
       "    </tr>\n",
       "    <tr>\n",
       "      <th>2</th>\n",
       "      <td>2010-01-18</td>\n",
       "      <td>NaN</td>\n",
       "      <td>NaN</td>\n",
       "      <td>NaN</td>\n",
       "      <td>NaN</td>\n",
       "      <td>NaN</td>\n",
       "      <td>NaN</td>\n",
       "      <td>NaN</td>\n",
       "      <td>NaN</td>\n",
       "      <td>NaN</td>\n",
       "      <td>...</td>\n",
       "      <td>NaN</td>\n",
       "      <td>NaN</td>\n",
       "      <td>NaN</td>\n",
       "      <td>NaN</td>\n",
       "      <td>NaN</td>\n",
       "      <td>NaN</td>\n",
       "      <td>NaN</td>\n",
       "      <td>NaN</td>\n",
       "      <td>NaN</td>\n",
       "      <td>NaN</td>\n",
       "    </tr>\n",
       "    <tr>\n",
       "      <th>3</th>\n",
       "      <td>2010-01-19</td>\n",
       "      <td>113.62</td>\n",
       "      <td>115.13</td>\n",
       "      <td>113.59</td>\n",
       "      <td>115.06</td>\n",
       "      <td>138671890.0</td>\n",
       "      <td>1.54</td>\n",
       "      <td>45.96</td>\n",
       "      <td>46.640</td>\n",
       "      <td>45.95</td>\n",
       "      <td>...</td>\n",
       "      <td>47.08</td>\n",
       "      <td>45.70</td>\n",
       "      <td>46.94</td>\n",
       "      <td>629150.0</td>\n",
       "      <td>1.38</td>\n",
       "      <td>110.95</td>\n",
       "      <td>111.75</td>\n",
       "      <td>110.83</td>\n",
       "      <td>111.52</td>\n",
       "      <td>10467927.0</td>\n",
       "    </tr>\n",
       "    <tr>\n",
       "      <th>4</th>\n",
       "      <td>2010-01-20</td>\n",
       "      <td>114.28</td>\n",
       "      <td>114.45</td>\n",
       "      <td>112.98</td>\n",
       "      <td>113.89</td>\n",
       "      <td>216330645.0</td>\n",
       "      <td>1.47</td>\n",
       "      <td>46.27</td>\n",
       "      <td>46.604</td>\n",
       "      <td>45.43</td>\n",
       "      <td>...</td>\n",
       "      <td>47.31</td>\n",
       "      <td>45.17</td>\n",
       "      <td>47.05</td>\n",
       "      <td>643198.0</td>\n",
       "      <td>2.14</td>\n",
       "      <td>109.97</td>\n",
       "      <td>110.05</td>\n",
       "      <td>108.46</td>\n",
       "      <td>108.94</td>\n",
       "      <td>17534231.0</td>\n",
       "    </tr>\n",
       "  </tbody>\n",
       "</table>\n",
       "<p>5 rows × 47 columns</p>\n",
       "</div>"
      ]
     },
     "execution_count": 2,
     "metadata": {},
     "output_type": "execute_result"
    }
   ],
   "execution_count": 2
  },
  {
   "cell_type": "code",
   "id": "bac8dccea1e2c49b",
   "metadata": {
    "ExecuteTime": {
     "end_time": "2025-05-11T22:57:04.794962Z",
     "start_time": "2025-05-11T22:57:04.785701Z"
    }
   },
   "source": "df.columns",
   "outputs": [
    {
     "data": {
      "text/plain": [
       "Index(['date', 'sp500 open', 'sp500 high', 'sp500 low', 'sp500 close',\n",
       "       'sp500 volume', 'sp500 high-low', 'nasdaq open', 'nasdaq high',\n",
       "       'nasdaq low', 'nasdaq close', 'nasdaq volume', 'nasdaq high-low',\n",
       "       'us_rates_%', 'CPI', 'usd_chf', 'eur_usd', 'GDP', 'silver open',\n",
       "       'silver high', 'silver low', 'silver close', 'silver volume',\n",
       "       'silver high-low', 'oil open', 'oil high', 'oil low', 'oil close',\n",
       "       'oil volume', 'oil high-low', 'platinum open', 'platinum high',\n",
       "       'platinum low', 'platinum close', 'platinum volume',\n",
       "       'platinum high-low', 'palladium open', 'palladium high',\n",
       "       'palladium low', 'palladium close', 'palladium volume',\n",
       "       'palladium high-low', 'gold open', 'gold high', 'gold low',\n",
       "       'gold close', 'gold volume'],\n",
       "      dtype='object')"
      ]
     },
     "execution_count": 3,
     "metadata": {},
     "output_type": "execute_result"
    }
   ],
   "execution_count": 3
  },
  {
   "cell_type": "code",
   "id": "14c9502f33724ecf",
   "metadata": {
    "ExecuteTime": {
     "end_time": "2025-05-11T22:57:04.859904Z",
     "start_time": "2025-05-11T22:57:04.851778Z"
    }
   },
   "source": [
    "selected_columns = ['sp500 close', 'oil close', 'silver close',\n",
    "                    'eur_usd', 'palladium open', 'platinum close',\n",
    "                    'gold close'\n",
    "]\n",
    "df_train = df[selected_columns]"
   ],
   "outputs": [],
   "execution_count": 4
  },
  {
   "cell_type": "code",
   "id": "82164316a4464df1",
   "metadata": {
    "ExecuteTime": {
     "end_time": "2025-05-11T22:57:04.973441Z",
     "start_time": "2025-05-11T22:57:04.965087Z"
    }
   },
   "source": [
    "print(df_train.isnull().sum())"
   ],
   "outputs": [
    {
     "name": "stdout",
     "output_type": "stream",
     "text": [
      "sp500 close       185\n",
      "oil close         185\n",
      "silver close      185\n",
      "eur_usd           210\n",
      "palladium open    185\n",
      "platinum close    185\n",
      "gold close        185\n",
      "dtype: int64\n"
     ]
    }
   ],
   "execution_count": 5
  },
  {
   "cell_type": "code",
   "id": "ed6274aeadf1bbcf",
   "metadata": {
    "ExecuteTime": {
     "end_time": "2025-05-11T22:57:05.117278Z",
     "start_time": "2025-05-11T22:57:05.098471Z"
    }
   },
   "source": [
    "print(df_train.duplicated().sum())\n",
    "df_train = df_train.drop_duplicates()"
   ],
   "outputs": [
    {
     "name": "stdout",
     "output_type": "stream",
     "text": [
      "167\n"
     ]
    }
   ],
   "execution_count": 6
  },
  {
   "cell_type": "code",
   "id": "7402df0067cd1a10",
   "metadata": {
    "ExecuteTime": {
     "end_time": "2025-05-11T22:57:05.387658Z",
     "start_time": "2025-05-11T22:57:05.371619Z"
    }
   },
   "source": [
    "df_train.info()"
   ],
   "outputs": [
    {
     "name": "stdout",
     "output_type": "stream",
     "text": [
      "<class 'pandas.core.frame.DataFrame'>\n",
      "Index: 3737 entries, 0 to 3903\n",
      "Data columns (total 7 columns):\n",
      " #   Column          Non-Null Count  Dtype  \n",
      "---  ------          --------------  -----  \n",
      " 0   sp500 close     3719 non-null   float64\n",
      " 1   oil close       3719 non-null   float64\n",
      " 2   silver close    3719 non-null   float64\n",
      " 3   eur_usd         3694 non-null   float64\n",
      " 4   palladium open  3719 non-null   float64\n",
      " 5   platinum close  3719 non-null   float64\n",
      " 6   gold close      3719 non-null   float64\n",
      "dtypes: float64(7)\n",
      "memory usage: 233.6 KB\n"
     ]
    }
   ],
   "execution_count": 7
  },
  {
   "cell_type": "code",
   "id": "acc3f2c5c12a0c7d",
   "metadata": {
    "ExecuteTime": {
     "end_time": "2025-05-11T22:57:05.565295Z",
     "start_time": "2025-05-11T22:57:05.554107Z"
    }
   },
   "source": [
    "cat_val = df_train.select_dtypes(include=['object']).columns\n",
    "num_val = df_train.select_dtypes(include=['int', \"float\"]).columns\n",
    "\n",
    "print(cat_val,'\\n',num_val)"
   ],
   "outputs": [
    {
     "name": "stdout",
     "output_type": "stream",
     "text": [
      "Index([], dtype='object') \n",
      " Index(['sp500 close', 'oil close', 'silver close', 'eur_usd', 'palladium open',\n",
      "       'platinum close', 'gold close'],\n",
      "      dtype='object')\n"
     ]
    }
   ],
   "execution_count": 8
  },
  {
   "cell_type": "code",
   "id": "47bc3e78e5bf07d3",
   "metadata": {
    "ExecuteTime": {
     "end_time": "2025-05-11T22:57:05.621754Z",
     "start_time": "2025-05-11T22:57:05.612194Z"
    }
   },
   "source": [
    "for column in df_train.columns:\n",
    "    unique_values = df_train[column].unique()\n",
    "    print(f\"Unique values in column '{column}': {unique_values}\")"
   ],
   "outputs": [
    {
     "name": "stdout",
     "output_type": "stream",
     "text": [
      "Unique values in column 'sp500 close': [114.93 113.64    nan ... 583.63 583.32 577.99]\n",
      "Unique values in column 'oil close': [39.06 38.4    nan ... 72.26 73.98 73.55]\n",
      "Unique values in column 'silver close': [18.66 18.41   nan ... 32.12 33.23 32.15]\n",
      "Unique values in column 'eur_usd': [1.4478 1.4376    nan ... 1.1116 1.1147 1.1159]\n",
      "Unique values in column 'palladium open': [43.93 45.18   nan ... 98.28 98.77 98.01]\n",
      "Unique values in column 'platinum close': [161.45 160.25    nan ...  91.35  90.47  94.51]\n",
      "Unique values in column 'gold close': [112.03 110.86    nan ... 251.22 253.93 250.87]\n"
     ]
    }
   ],
   "execution_count": 9
  },
  {
   "cell_type": "code",
   "id": "fa94bc39d87f47f4",
   "metadata": {
    "ExecuteTime": {
     "end_time": "2025-05-11T22:57:05.675743Z",
     "start_time": "2025-05-11T22:57:05.657353Z"
    }
   },
   "source": [
    "df_train.head()"
   ],
   "outputs": [
    {
     "data": {
      "text/plain": [
       "   sp500 close  oil close  silver close  eur_usd  palladium open  \\\n",
       "0       114.93      39.06         18.66   1.4478           43.93   \n",
       "1       113.64      38.40         18.41   1.4376           45.18   \n",
       "2          NaN        NaN           NaN      NaN             NaN   \n",
       "3       115.06      38.93         18.79   1.4269           46.01   \n",
       "4       113.89      37.89         17.86   1.4094           46.59   \n",
       "\n",
       "   platinum close  gold close  \n",
       "0          161.45      112.03  \n",
       "1          160.25      110.86  \n",
       "2             NaN         NaN  \n",
       "3          165.12      111.52  \n",
       "4          163.22      108.94  "
      ],
      "text/html": [
       "<div>\n",
       "<style scoped>\n",
       "    .dataframe tbody tr th:only-of-type {\n",
       "        vertical-align: middle;\n",
       "    }\n",
       "\n",
       "    .dataframe tbody tr th {\n",
       "        vertical-align: top;\n",
       "    }\n",
       "\n",
       "    .dataframe thead th {\n",
       "        text-align: right;\n",
       "    }\n",
       "</style>\n",
       "<table border=\"1\" class=\"dataframe\">\n",
       "  <thead>\n",
       "    <tr style=\"text-align: right;\">\n",
       "      <th></th>\n",
       "      <th>sp500 close</th>\n",
       "      <th>oil close</th>\n",
       "      <th>silver close</th>\n",
       "      <th>eur_usd</th>\n",
       "      <th>palladium open</th>\n",
       "      <th>platinum close</th>\n",
       "      <th>gold close</th>\n",
       "    </tr>\n",
       "  </thead>\n",
       "  <tbody>\n",
       "    <tr>\n",
       "      <th>0</th>\n",
       "      <td>114.93</td>\n",
       "      <td>39.06</td>\n",
       "      <td>18.66</td>\n",
       "      <td>1.4478</td>\n",
       "      <td>43.93</td>\n",
       "      <td>161.45</td>\n",
       "      <td>112.03</td>\n",
       "    </tr>\n",
       "    <tr>\n",
       "      <th>1</th>\n",
       "      <td>113.64</td>\n",
       "      <td>38.40</td>\n",
       "      <td>18.41</td>\n",
       "      <td>1.4376</td>\n",
       "      <td>45.18</td>\n",
       "      <td>160.25</td>\n",
       "      <td>110.86</td>\n",
       "    </tr>\n",
       "    <tr>\n",
       "      <th>2</th>\n",
       "      <td>NaN</td>\n",
       "      <td>NaN</td>\n",
       "      <td>NaN</td>\n",
       "      <td>NaN</td>\n",
       "      <td>NaN</td>\n",
       "      <td>NaN</td>\n",
       "      <td>NaN</td>\n",
       "    </tr>\n",
       "    <tr>\n",
       "      <th>3</th>\n",
       "      <td>115.06</td>\n",
       "      <td>38.93</td>\n",
       "      <td>18.79</td>\n",
       "      <td>1.4269</td>\n",
       "      <td>46.01</td>\n",
       "      <td>165.12</td>\n",
       "      <td>111.52</td>\n",
       "    </tr>\n",
       "    <tr>\n",
       "      <th>4</th>\n",
       "      <td>113.89</td>\n",
       "      <td>37.89</td>\n",
       "      <td>17.86</td>\n",
       "      <td>1.4094</td>\n",
       "      <td>46.59</td>\n",
       "      <td>163.22</td>\n",
       "      <td>108.94</td>\n",
       "    </tr>\n",
       "  </tbody>\n",
       "</table>\n",
       "</div>"
      ]
     },
     "execution_count": 10,
     "metadata": {},
     "output_type": "execute_result"
    }
   ],
   "execution_count": 10
  },
  {
   "cell_type": "code",
   "id": "69e59a0fb46b69d4",
   "metadata": {
    "ExecuteTime": {
     "end_time": "2025-05-11T22:57:05.767853Z",
     "start_time": "2025-05-11T22:57:05.755962Z"
    }
   },
   "source": [
    "df_train = df_train.fillna(df_train.median(numeric_only=True))"
   ],
   "outputs": [],
   "execution_count": 11
  },
  {
   "cell_type": "code",
   "id": "2f2846009026f3c3",
   "metadata": {
    "ExecuteTime": {
     "end_time": "2025-05-11T22:57:05.875206Z",
     "start_time": "2025-05-11T22:57:05.862430Z"
    }
   },
   "source": [
    "df_train.info()"
   ],
   "outputs": [
    {
     "name": "stdout",
     "output_type": "stream",
     "text": [
      "<class 'pandas.core.frame.DataFrame'>\n",
      "Index: 3737 entries, 0 to 3903\n",
      "Data columns (total 7 columns):\n",
      " #   Column          Non-Null Count  Dtype  \n",
      "---  ------          --------------  -----  \n",
      " 0   sp500 close     3737 non-null   float64\n",
      " 1   oil close       3737 non-null   float64\n",
      " 2   silver close    3737 non-null   float64\n",
      " 3   eur_usd         3737 non-null   float64\n",
      " 4   palladium open  3737 non-null   float64\n",
      " 5   platinum close  3737 non-null   float64\n",
      " 6   gold close      3737 non-null   float64\n",
      "dtypes: float64(7)\n",
      "memory usage: 233.6 KB\n"
     ]
    }
   ],
   "execution_count": 12
  },
  {
   "cell_type": "code",
   "id": "781fb8891c7cff94",
   "metadata": {
    "ExecuteTime": {
     "end_time": "2025-05-11T22:57:05.999091Z",
     "start_time": "2025-05-11T22:57:05.991473Z"
    }
   },
   "source": [
    "print(df_train.isnull().sum())"
   ],
   "outputs": [
    {
     "name": "stdout",
     "output_type": "stream",
     "text": [
      "sp500 close       0\n",
      "oil close         0\n",
      "silver close      0\n",
      "eur_usd           0\n",
      "palladium open    0\n",
      "platinum close    0\n",
      "gold close        0\n",
      "dtype: int64\n"
     ]
    }
   ],
   "execution_count": 13
  },
  {
   "cell_type": "code",
   "id": "844e655f97ca0021",
   "metadata": {
    "ExecuteTime": {
     "end_time": "2025-05-11T22:57:06.444471Z",
     "start_time": "2025-05-11T22:57:06.131659Z"
    }
   },
   "source": [
    "sns.displot(df['gold close'],color='blue')\n",
    "plt.title('Distribution of Gold Closing Prices')\n",
    "plt.show()"
   ],
   "outputs": [
    {
     "data": {
      "text/plain": [
       "<Figure size 500x500 with 1 Axes>"
      ],
      "image/png": "[encoded data removed]"
     },
     "metadata": {},
     "output_type": "display_data"
    }
   ],
   "execution_count": 14
  },
  {
   "cell_type": "code",
   "id": "234a50f3b565a9f8",
   "metadata": {
    "ExecuteTime": {
     "end_time": "2025-05-11T22:57:06.671621Z",
     "start_time": "2025-05-11T22:57:06.488085Z"
    }
   },
   "source": [
    " bar_data = df_train.mean()\n",
    "\n",
    "#Створення барплот\n",
    "plt.figure(figsize=(12, 6))\n",
    "sns.barplot(x=bar_data.index, y=bar_data.values, palette='viridis')\n",
    "plt.title('Average Prices for Different Assets')\n",
    "plt.ylabel('Average Price')\n",
    "plt.xlabel('Assets')\n",
    "plt.show()"
   ],
   "outputs": [
    {
     "data": {
      "text/plain": [
       "<Figure size 1200x600 with 1 Axes>"
      ],
      "image/png": "[encoded data removed]"
     },
     "metadata": {},
     "output_type": "display_data"
    }
   ],
   "execution_count": 15
  },
  {
   "cell_type": "code",
   "id": "4c74bb01c59a5274",
   "metadata": {
    "ExecuteTime": {
     "end_time": "2025-05-11T22:57:06.722004Z",
     "start_time": "2025-05-11T22:57:06.699707Z"
    }
   },
   "source": [
    "df_train.sample(10)"
   ],
   "outputs": [
    {
     "data": {
      "text/plain": [
       "      sp500 close  oil close  silver close  eur_usd  palladium open  \\\n",
       "2790       330.06      29.78         25.19   1.1766          197.60   \n",
       "503        123.05      38.61         30.44   1.3094           65.40   \n",
       "3870       540.36      68.93         26.69   1.1086           87.01   \n",
       "732        141.42      31.97         31.37   1.2971           59.38   \n",
       "2960       395.78      41.92         23.82   1.1779          240.89   \n",
       "3238       437.97      80.41         24.88   1.0785          223.65   \n",
       "3610       446.51      79.68         21.90   1.0737          114.57   \n",
       "3517       412.74      64.26         24.54   1.1020          143.50   \n",
       "2733       295.00      24.31         16.40   1.0904          189.21   \n",
       "1301       201.79      21.34         15.52   1.2406           76.25   \n",
       "\n",
       "      platinum close  gold close  \n",
       "2790           88.88    189.5900  \n",
       "503           145.46    158.4500  \n",
       "3870           84.58    230.6300  \n",
       "732           154.49    165.4258  \n",
       "2960          109.99    160.3100  \n",
       "3238           94.05    184.6100  \n",
       "3610           83.32    177.0800  \n",
       "3517           99.10    187.6900  \n",
       "2733           77.60    162.6900  \n",
       "1301          115.75    114.2700  "
      ],
      "text/html": [
       "<div>\n",
       "<style scoped>\n",
       "    .dataframe tbody tr th:only-of-type {\n",
       "        vertical-align: middle;\n",
       "    }\n",
       "\n",
       "    .dataframe tbody tr th {\n",
       "        vertical-align: top;\n",
       "    }\n",
       "\n",
       "    .dataframe thead th {\n",
       "        text-align: right;\n",
       "    }\n",
       "</style>\n",
       "<table border=\"1\" class=\"dataframe\">\n",
       "  <thead>\n",
       "    <tr style=\"text-align: right;\">\n",
       "      <th></th>\n",
       "      <th>sp500 close</th>\n",
       "      <th>oil close</th>\n",
       "      <th>silver close</th>\n",
       "      <th>eur_usd</th>\n",
       "      <th>palladium open</th>\n",
       "      <th>platinum close</th>\n",
       "      <th>gold close</th>\n",
       "    </tr>\n",
       "  </thead>\n",
       "  <tbody>\n",
       "    <tr>\n",
       "      <th>2790</th>\n",
       "      <td>330.06</td>\n",
       "      <td>29.78</td>\n",
       "      <td>25.19</td>\n",
       "      <td>1.1766</td>\n",
       "      <td>197.60</td>\n",
       "      <td>88.88</td>\n",
       "      <td>189.5900</td>\n",
       "    </tr>\n",
       "    <tr>\n",
       "      <th>503</th>\n",
       "      <td>123.05</td>\n",
       "      <td>38.61</td>\n",
       "      <td>30.44</td>\n",
       "      <td>1.3094</td>\n",
       "      <td>65.40</td>\n",
       "      <td>145.46</td>\n",
       "      <td>158.4500</td>\n",
       "    </tr>\n",
       "    <tr>\n",
       "      <th>3870</th>\n",
       "      <td>540.36</td>\n",
       "      <td>68.93</td>\n",
       "      <td>26.69</td>\n",
       "      <td>1.1086</td>\n",
       "      <td>87.01</td>\n",
       "      <td>84.58</td>\n",
       "      <td>230.6300</td>\n",
       "    </tr>\n",
       "    <tr>\n",
       "      <th>732</th>\n",
       "      <td>141.42</td>\n",
       "      <td>31.97</td>\n",
       "      <td>31.37</td>\n",
       "      <td>1.2971</td>\n",
       "      <td>59.38</td>\n",
       "      <td>154.49</td>\n",
       "      <td>165.4258</td>\n",
       "    </tr>\n",
       "    <tr>\n",
       "      <th>2960</th>\n",
       "      <td>395.78</td>\n",
       "      <td>41.92</td>\n",
       "      <td>23.82</td>\n",
       "      <td>1.1779</td>\n",
       "      <td>240.89</td>\n",
       "      <td>109.99</td>\n",
       "      <td>160.3100</td>\n",
       "    </tr>\n",
       "    <tr>\n",
       "      <th>3238</th>\n",
       "      <td>437.97</td>\n",
       "      <td>80.41</td>\n",
       "      <td>24.88</td>\n",
       "      <td>1.0785</td>\n",
       "      <td>223.65</td>\n",
       "      <td>94.05</td>\n",
       "      <td>184.6100</td>\n",
       "    </tr>\n",
       "    <tr>\n",
       "      <th>3610</th>\n",
       "      <td>446.51</td>\n",
       "      <td>79.68</td>\n",
       "      <td>21.90</td>\n",
       "      <td>1.0737</td>\n",
       "      <td>114.57</td>\n",
       "      <td>83.32</td>\n",
       "      <td>177.0800</td>\n",
       "    </tr>\n",
       "    <tr>\n",
       "      <th>3517</th>\n",
       "      <td>412.74</td>\n",
       "      <td>64.26</td>\n",
       "      <td>24.54</td>\n",
       "      <td>1.1020</td>\n",
       "      <td>143.50</td>\n",
       "      <td>99.10</td>\n",
       "      <td>187.6900</td>\n",
       "    </tr>\n",
       "    <tr>\n",
       "      <th>2733</th>\n",
       "      <td>295.00</td>\n",
       "      <td>24.31</td>\n",
       "      <td>16.40</td>\n",
       "      <td>1.0904</td>\n",
       "      <td>189.21</td>\n",
       "      <td>77.60</td>\n",
       "      <td>162.6900</td>\n",
       "    </tr>\n",
       "    <tr>\n",
       "      <th>1301</th>\n",
       "      <td>201.79</td>\n",
       "      <td>21.34</td>\n",
       "      <td>15.52</td>\n",
       "      <td>1.2406</td>\n",
       "      <td>76.25</td>\n",
       "      <td>115.75</td>\n",
       "      <td>114.2700</td>\n",
       "    </tr>\n",
       "  </tbody>\n",
       "</table>\n",
       "</div>"
      ]
     },
     "execution_count": 16,
     "metadata": {},
     "output_type": "execute_result"
    }
   ],
   "execution_count": 16
  },
  {
   "cell_type": "code",
   "id": "b60553648283a915",
   "metadata": {
    "ExecuteTime": {
     "end_time": "2025-05-11T22:57:07.776053Z",
     "start_time": "2025-05-11T22:57:06.791810Z"
    }
   },
   "source": [
    "def plot_boxplots(data, columns):\n",
    "    for col in columns:\n",
    "        plt.figure(figsize=(12, 6))\n",
    "        sns.boxplot(data=data, x=col, color='skyblue')\n",
    "        plt.title(f'Boxplot of {col}')\n",
    "        plt.xlabel(col)\n",
    "        plt.show()\n",
    "\n",
    "columns_to_plot = ['gold close','sp500 close', 'nasdaq close',\n",
    "                   'silver high-low', 'platinum high-low','palladium high-low']\n",
    "\n",
    "# Викликаємо функцію для побудови boxplot\n",
    "plot_boxplots(df_train, df_train)"
   ],
   "outputs": [
    {
     "data": {
      "text/plain": [
       "<Figure size 1200x600 with 1 Axes>"
      ],
      "image/png": "[encoded data removed]"
     },
     "metadata": {},
     "output_type": "display_data"
    },
    {
     "data": {
      "text/plain": [
       "<Figure size 1200x600 with 1 Axes>"
      ],
      "image/png": "[encoded data removed]"
     },
     "metadata": {},
     "output_type": "display_data"
    },
    {
     "data": {
      "text/plain": [
       "<Figure size 1200x600 with 1 Axes>"
      ],
      "image/png": "[encoded data removed]"
     },
     "metadata": {},
     "output_type": "display_data"
    },
    {
     "data": {
      "text/plain": [
       "<Figure size 1200x600 with 1 Axes>"
      ],
      "image/png": "[encoded data removed]"
     },
     "metadata": {},
     "output_type": "display_data"
    },
    {
     "data": {
      "text/plain": [
       "<Figure size 1200x600 with 1 Axes>"
      ],
      "image/png": "[encoded data removed]"
     },
     "metadata": {},
     "output_type": "display_data"
    },
    {
     "data": {
      "text/plain": [
       "<Figure size 1200x600 with 1 Axes>"
      ],
      "image/png": "[encoded data removed]"
     },
     "metadata": {},
     "output_type": "display_data"
    },
    {
     "data": {
      "text/plain": [
       "<Figure size 1200x600 with 1 Axes>"
      ],
      "image/png": "[encoded data removed]"
     },
     "metadata": {},
     "output_type": "display_data"
    }
   ],
   "execution_count": 17
  },
  {
   "cell_type": "code",
   "id": "5ae36ce23e1cb0c0",
   "metadata": {
    "ExecuteTime": {
     "end_time": "2025-05-11T22:57:08.088168Z",
     "start_time": "2025-05-11T22:57:07.821916Z"
    }
   },
   "source": [
    "plt.figure(figsize=(12,6))\n",
    "sns.histplot(df_train['gold close'], bins=30, kde=True, color='gold')\n",
    "plt.title('Distribution of Gold Closing Price')\n",
    "plt.xlabel('Gold Closing Price')\n",
    "plt.ylabel('Frequency')\n",
    "plt.show()\n"
   ],
   "outputs": [
    {
     "data": {
      "text/plain": [
       "<Figure size 1200x600 with 1 Axes>"
      ],
      "image/png": "[encoded data removed]"
     },
     "metadata": {},
     "output_type": "display_data"
    }
   ],
   "execution_count": 18
  },
  {
   "cell_type": "code",
   "id": "f7cac2078d8c1625",
   "metadata": {
    "ExecuteTime": {
     "end_time": "2025-05-11T22:57:08.383116Z",
     "start_time": "2025-05-11T22:57:08.167590Z"
    }
   },
   "source": [
    "plt.figure(figsize=(12,6))\n",
    "sns.distplot(np.log(df_train['gold close']))\n",
    "plt.title('Distribution of Logarithm of Gold Closing Price')\n",
    "plt.xlabel('Logarithm of Gold Closing Price')\n",
    "plt.ylabel('Frequency')\n",
    "plt.show()\n"
   ],
   "outputs": [
    {
     "data": {
      "text/plain": [
       "<Figure size 1200x600 with 1 Axes>"
      ],
      "image/png": "[encoded data removed]"
     },
     "metadata": {},
     "output_type": "display_data"
    }
   ],
   "execution_count": 19
  },
  {
   "cell_type": "code",
   "id": "af739246f3c908d6",
   "metadata": {
    "ExecuteTime": {
     "end_time": "2025-05-11T22:57:08.422095Z",
     "start_time": "2025-05-11T22:57:08.409395Z"
    }
   },
   "source": [
    "df_train.info()"
   ],
   "outputs": [
    {
     "name": "stdout",
     "output_type": "stream",
     "text": [
      "<class 'pandas.core.frame.DataFrame'>\n",
      "Index: 3737 entries, 0 to 3903\n",
      "Data columns (total 7 columns):\n",
      " #   Column          Non-Null Count  Dtype  \n",
      "---  ------          --------------  -----  \n",
      " 0   sp500 close     3737 non-null   float64\n",
      " 1   oil close       3737 non-null   float64\n",
      " 2   silver close    3737 non-null   float64\n",
      " 3   eur_usd         3737 non-null   float64\n",
      " 4   palladium open  3737 non-null   float64\n",
      " 5   platinum close  3737 non-null   float64\n",
      " 6   gold close      3737 non-null   float64\n",
      "dtypes: float64(7)\n",
      "memory usage: 233.6 KB\n"
     ]
    }
   ],
   "execution_count": 20
  },
  {
   "cell_type": "code",
   "id": "f5f7c3915239d9d5",
   "metadata": {
    "ExecuteTime": {
     "end_time": "2025-05-11T22:57:08.766077Z",
     "start_time": "2025-05-11T22:57:08.471826Z"
    }
   },
   "source": [
    "plt.figure(figsize=(12,8))\n",
    "corr = df_train.corr(numeric_only=True)\n",
    "sns.heatmap(corr, annot=True, cmap='coolwarm', fmt='.2f')\n",
    "plt.title('Correlation Matrix')\n",
    "plt.show()"
   ],
   "outputs": [
    {
     "data": {
      "text/plain": [
       "<Figure size 1200x800 with 2 Axes>"
      ],
      "image/png": "[encoded data removed]"
     },
     "metadata": {},
     "output_type": "display_data"
    }
   ],
   "execution_count": 21
  },
  {
   "cell_type": "code",
   "id": "6088f0a76fa9ecd4",
   "metadata": {
    "ExecuteTime": {
     "end_time": "2025-05-11T22:57:08.803868Z",
     "start_time": "2025-05-11T22:57:08.795154Z"
    }
   },
   "source": [
    "## 4. Final data preps\n",
    "x = df_train.drop(['gold close'], axis=1)\n",
    "y = np.log(df_train['gold close'])"
   ],
   "outputs": [],
   "execution_count": 22
  },
  {
   "cell_type": "code",
   "id": "45bcbc749480d709",
   "metadata": {
    "ExecuteTime": {
     "end_time": "2025-05-11T22:57:08.847481Z",
     "start_time": "2025-05-11T22:57:08.835579Z"
    }
   },
   "source": [
    "X_train, X_test, y_train, y_test = train_test_split(x, y, test_size=0.2, random_state=42)\n",
    "X_train.shape, X_test.shape\n"
   ],
   "outputs": [
    {
     "data": {
      "text/plain": [
       "((2989, 6), (748, 6))"
      ]
     },
     "execution_count": 23,
     "metadata": {},
     "output_type": "execute_result"
    }
   ],
   "execution_count": 23
  },
  {
   "cell_type": "code",
   "id": "ab2c7b51b181d692",
   "metadata": {
    "ExecuteTime": {
     "end_time": "2025-05-11T22:57:08.898820Z",
     "start_time": "2025-05-11T22:57:08.884087Z"
    }
   },
   "source": [
    "df_train.head()"
   ],
   "outputs": [
    {
     "data": {
      "text/plain": [
       "   sp500 close  oil close  silver close  eur_usd  palladium open  \\\n",
       "0       114.93      39.06         18.66   1.4478           43.93   \n",
       "1       113.64      38.40         18.41   1.4376           45.18   \n",
       "2       240.61      33.94         19.73   1.1591           83.38   \n",
       "3       115.06      38.93         18.79   1.4269           46.01   \n",
       "4       113.89      37.89         17.86   1.4094           46.59   \n",
       "\n",
       "   platinum close  gold close  \n",
       "0          161.45      112.03  \n",
       "1          160.25      110.86  \n",
       "2           95.38      137.71  \n",
       "3          165.12      111.52  \n",
       "4          163.22      108.94  "
      ],
      "text/html": [
       "<div>\n",
       "<style scoped>\n",
       "    .dataframe tbody tr th:only-of-type {\n",
       "        vertical-align: middle;\n",
       "    }\n",
       "\n",
       "    .dataframe tbody tr th {\n",
       "        vertical-align: top;\n",
       "    }\n",
       "\n",
       "    .dataframe thead th {\n",
       "        text-align: right;\n",
       "    }\n",
       "</style>\n",
       "<table border=\"1\" class=\"dataframe\">\n",
       "  <thead>\n",
       "    <tr style=\"text-align: right;\">\n",
       "      <th></th>\n",
       "      <th>sp500 close</th>\n",
       "      <th>oil close</th>\n",
       "      <th>silver close</th>\n",
       "      <th>eur_usd</th>\n",
       "      <th>palladium open</th>\n",
       "      <th>platinum close</th>\n",
       "      <th>gold close</th>\n",
       "    </tr>\n",
       "  </thead>\n",
       "  <tbody>\n",
       "    <tr>\n",
       "      <th>0</th>\n",
       "      <td>114.93</td>\n",
       "      <td>39.06</td>\n",
       "      <td>18.66</td>\n",
       "      <td>1.4478</td>\n",
       "      <td>43.93</td>\n",
       "      <td>161.45</td>\n",
       "      <td>112.03</td>\n",
       "    </tr>\n",
       "    <tr>\n",
       "      <th>1</th>\n",
       "      <td>113.64</td>\n",
       "      <td>38.40</td>\n",
       "      <td>18.41</td>\n",
       "      <td>1.4376</td>\n",
       "      <td>45.18</td>\n",
       "      <td>160.25</td>\n",
       "      <td>110.86</td>\n",
       "    </tr>\n",
       "    <tr>\n",
       "      <th>2</th>\n",
       "      <td>240.61</td>\n",
       "      <td>33.94</td>\n",
       "      <td>19.73</td>\n",
       "      <td>1.1591</td>\n",
       "      <td>83.38</td>\n",
       "      <td>95.38</td>\n",
       "      <td>137.71</td>\n",
       "    </tr>\n",
       "    <tr>\n",
       "      <th>3</th>\n",
       "      <td>115.06</td>\n",
       "      <td>38.93</td>\n",
       "      <td>18.79</td>\n",
       "      <td>1.4269</td>\n",
       "      <td>46.01</td>\n",
       "      <td>165.12</td>\n",
       "      <td>111.52</td>\n",
       "    </tr>\n",
       "    <tr>\n",
       "      <th>4</th>\n",
       "      <td>113.89</td>\n",
       "      <td>37.89</td>\n",
       "      <td>17.86</td>\n",
       "      <td>1.4094</td>\n",
       "      <td>46.59</td>\n",
       "      <td>163.22</td>\n",
       "      <td>108.94</td>\n",
       "    </tr>\n",
       "  </tbody>\n",
       "</table>\n",
       "</div>"
      ]
     },
     "execution_count": 24,
     "metadata": {},
     "output_type": "execute_result"
    }
   ],
   "execution_count": 24
  },
  {
   "cell_type": "code",
   "id": "99aea8e4d81e8f4a",
   "metadata": {
    "ExecuteTime": {
     "end_time": "2025-05-11T22:57:09.001034Z",
     "start_time": "2025-05-11T22:57:08.990046Z"
    }
   },
   "source": "df_train.info()",
   "outputs": [
    {
     "name": "stdout",
     "output_type": "stream",
     "text": [
      "<class 'pandas.core.frame.DataFrame'>\n",
      "Index: 3737 entries, 0 to 3903\n",
      "Data columns (total 7 columns):\n",
      " #   Column          Non-Null Count  Dtype  \n",
      "---  ------          --------------  -----  \n",
      " 0   sp500 close     3737 non-null   float64\n",
      " 1   oil close       3737 non-null   float64\n",
      " 2   silver close    3737 non-null   float64\n",
      " 3   eur_usd         3737 non-null   float64\n",
      " 4   palladium open  3737 non-null   float64\n",
      " 5   platinum close  3737 non-null   float64\n",
      " 6   gold close      3737 non-null   float64\n",
      "dtypes: float64(7)\n",
      "memory usage: 233.6 KB\n"
     ]
    }
   ],
   "execution_count": 25
  },
  {
   "metadata": {
    "ExecuteTime": {
     "end_time": "2025-05-11T22:57:09.098967Z",
     "start_time": "2025-05-11T22:57:09.065480Z"
    }
   },
   "cell_type": "code",
   "source": [
    "\n",
    "lr = LinearRegression()\n",
    "\n",
    "pipe = Pipeline([\n",
    "    ('lr', lr)\n",
    "])\n",
    "\n",
    "pipe.fit(X_train, y_train)\n",
    "\n",
    "y_train_pred = pipe.predict(X_train)\n",
    "y_pred = pipe.predict(X_test)\n",
    "\n",
    "print('Train R2 score', metrics.r2_score(y_train,y_train_pred))\n",
    "print('Train MAE', metrics.mean_absolute_error(y_train,y_train_pred))\n",
    "print(\"Train MAE on the orig price:\", np.exp(metrics.mean_absolute_error(y_train,y_train_pred)))\n",
    "print(\"Train RMSE on the orig price:\", np.exp(metrics.root_mean_squared_error(y_train,y_train_pred)))\n",
    "print(\"Train MSE on the orig price:\", np.exp(metrics.mean_squared_error(y_train,y_train_pred)), \"\\n\")\n",
    "\n",
    "print('Test R2 score', metrics.r2_score(y_test,y_pred))\n",
    "print('Test MAE', metrics.mean_absolute_error(y_test,y_pred))\n",
    "print(\"Test MAE on the orig price:\", np.exp(metrics.mean_absolute_error(y_test,y_pred)))\n",
    "print(\"Test RMSE on the orig price:\", np.exp(metrics.root_mean_squared_error(y_test,y_pred)))\n",
    "print(\"Test MSE on the orig price:\", np.exp(metrics.mean_squared_error(y_test,y_pred)), \"\\n\")"
   ],
   "id": "295f96bb9e931893",
   "outputs": [
    {
     "name": "stdout",
     "output_type": "stream",
     "text": [
      "Train R2 score 0.8945027217285741\n",
      "Train MAE 0.049280176562180304\n",
      "Train MAE on the orig price: 1.0505146390918545\n",
      "Train RMSE on the orig price: 1.065412243097152\n",
      "Train MSE on the orig price: 1.0040227883626829 \n",
      "\n",
      "Test R2 score 0.8782622258242738\n",
      "Test MAE 0.05140159090476542\n",
      "Test MAE on the orig price: 1.0527455814542046\n",
      "Test RMSE on the orig price: 1.0705391942762568\n",
      "Test MSE on the orig price: 1.0046569283652693 \n",
      "\n"
     ]
    }
   ],
   "execution_count": 26
  },
  {
   "metadata": {
    "ExecuteTime": {
     "end_time": "2025-05-11T22:57:09.236474Z",
     "start_time": "2025-05-11T22:57:09.209719Z"
    }
   },
   "cell_type": "code",
   "source": [
    "bayes = BayesianRidge()\n",
    "\n",
    "pipe = Pipeline([\n",
    "    ('bayes', bayes)\n",
    "])\n",
    "\n",
    "pipe.fit(X_train, y_train)\n",
    "\n",
    "y_train_pred = pipe.predict(X_train)\n",
    "y_pred = pipe.predict(X_test)\n",
    "\n",
    "print('Train R2 score', metrics.r2_score(y_train,y_train_pred))\n",
    "print('Train MAE', metrics.mean_absolute_error(y_train,y_train_pred))\n",
    "print(\"Train MAE on the orig price:\", np.exp(metrics.mean_absolute_error(y_train,y_train_pred)))\n",
    "print(\"Train RMSE on the orig price:\", np.exp(metrics.root_mean_squared_error(y_train,y_train_pred)))\n",
    "print(\"Train MSE on the orig price:\", np.exp(metrics.mean_squared_error(y_train,y_train_pred)), \"\\n\")\n",
    "\n",
    "print('Test R2 score', metrics.r2_score(y_test,y_pred))\n",
    "print('Test MAE', metrics.mean_absolute_error(y_test,y_pred))\n",
    "print(\"Test MAE on the orig price:\", np.exp(metrics.mean_absolute_error(y_test,y_pred)))\n",
    "print(\"Test RMSE on the orig price:\", np.exp(metrics.root_mean_squared_error(y_test,y_pred)))\n",
    "print(\"Test MSE on the orig price:\", np.exp(metrics.mean_squared_error(y_test,y_pred)), \"\\n\")"
   ],
   "id": "7b8cb4688ce236a0",
   "outputs": [
    {
     "name": "stdout",
     "output_type": "stream",
     "text": [
      "Train R2 score 0.8942920642379555\n",
      "Train MAE 0.049253732633935475\n",
      "Train MAE on the orig price: 1.0504868597254176\n",
      "Train RMSE on the orig price: 1.0654796102176742\n",
      "Train MSE on the orig price: 1.0040308372541331 \n",
      "\n",
      "Test R2 score 0.8776773783793463\n",
      "Test MAE 0.05144863921570762\n",
      "Test MAE on the orig price: 1.0527951125208312\n",
      "Test RMSE on the orig price: 1.0707142796220268\n",
      "Test MSE on the orig price: 1.0046793532461877 \n",
      "\n"
     ]
    }
   ],
   "execution_count": 27
  },
  {
   "metadata": {
    "ExecuteTime": {
     "end_time": "2025-05-11T22:57:09.350215Z",
     "start_time": "2025-05-11T22:57:09.323580Z"
    }
   },
   "cell_type": "code",
   "source": [
    "lasso = Lasso(alpha=0.001)\n",
    "\n",
    "pipe = Pipeline([\n",
    "    ('lasso', lasso)\n",
    "])\n",
    "\n",
    "pipe.fit(X_train, y_train)\n",
    "\n",
    "y_train_pred = pipe.predict(X_train)\n",
    "y_pred = pipe.predict(X_test)\n",
    "\n",
    "print('Train R2 score', metrics.r2_score(y_train,y_train_pred))\n",
    "print('Train MAE', metrics.mean_absolute_error(y_train,y_train_pred))\n",
    "print(\"Train MAE on the orig price:\", np.exp(metrics.mean_absolute_error(y_train,y_train_pred)))\n",
    "print(\"Train RMSE on the orig price:\", np.exp(metrics.root_mean_squared_error(y_train,y_train_pred)))\n",
    "print(\"Train MSE on the orig price:\", np.exp(metrics.mean_squared_error(y_train,y_train_pred)), \"\\n\")\n",
    "\n",
    "print('Test R2 score', metrics.r2_score(y_test,y_pred))\n",
    "print('Test MAE', metrics.mean_absolute_error(y_test,y_pred))\n",
    "print(\"Test MAE on the orig price:\", np.exp(metrics.mean_absolute_error(y_test,y_pred)))\n",
    "print(\"Test RMSE on the orig price:\", np.exp(metrics.root_mean_squared_error(y_test,y_pred)))\n",
    "print(\"Test MSE on the orig price:\", np.exp(metrics.mean_squared_error(y_test,y_pred)), \"\\n\")"
   ],
   "id": "5474ed38bca18c65",
   "outputs": [
    {
     "name": "stdout",
     "output_type": "stream",
     "text": [
      "Train R2 score 0.8941185718541442\n",
      "Train MAE 0.04929366540012417\n",
      "Train MAE on the orig price: 1.0505288094091492\n",
      "Train RMSE on the orig price: 1.0655350449434688\n",
      "Train MSE on the orig price: 1.0040374661737492 \n",
      "\n",
      "Test R2 score 0.8774906870670941\n",
      "Test MAE 0.051489663020504964\n",
      "Test MAE on the orig price: 1.0528383030679331\n",
      "Test RMSE on the orig price: 1.070770087110935\n",
      "Test MSE on the orig price: 1.0046865116806138 \n",
      "\n"
     ]
    }
   ],
   "execution_count": 28
  },
  {
   "metadata": {
    "ExecuteTime": {
     "end_time": "2025-05-11T22:57:09.423295Z",
     "start_time": "2025-05-11T22:57:09.393338Z"
    }
   },
   "cell_type": "code",
   "source": [
    "dtr = DecisionTreeRegressor(max_depth=2)\n",
    "\n",
    "pipe = Pipeline([\n",
    "    ('dtr', dtr)\n",
    "])\n",
    "\n",
    "pipe.fit(X_train, y_train)\n",
    "\n",
    "y_train_pred = pipe.predict(X_train)\n",
    "y_pred = pipe.predict(X_test)\n",
    "\n",
    "print('Train R2 score', metrics.r2_score(y_train,y_train_pred))\n",
    "print('Train MAE', metrics.mean_absolute_error(y_train,y_train_pred))\n",
    "print(\"Train MAE on the orig price:\", np.exp(metrics.mean_absolute_error(y_train,y_train_pred)), \"\\n\")\n",
    "\n",
    "print('Test R2 score', metrics.r2_score(y_test,y_pred))\n",
    "print('Test MAE', metrics.mean_absolute_error(y_test,y_pred))\n",
    "print(\"Test MAE on the orig price:\", np.exp(metrics.mean_absolute_error(y_test,y_pred)))"
   ],
   "id": "e67a023fcb0f1c6c",
   "outputs": [
    {
     "name": "stdout",
     "output_type": "stream",
     "text": [
      "Train R2 score 0.8227374590407648\n",
      "Train MAE 0.06068366918326037\n",
      "Train MAE on the orig price: 1.0625627396795403 \n",
      "\n",
      "Test R2 score 0.8122640488724059\n",
      "Test MAE 0.061889588838575815\n",
      "Test MAE on the orig price: 1.0638448778947847\n"
     ]
    }
   ],
   "execution_count": 29
  },
  {
   "metadata": {
    "ExecuteTime": {
     "end_time": "2025-05-11T22:57:09.559927Z",
     "start_time": "2025-05-11T22:57:09.480779Z"
    }
   },
   "cell_type": "code",
   "source": [
    "random = RandomForestRegressor(n_estimators=20,\n",
    "                              random_state=1,\n",
    "                              max_samples=0.2,\n",
    "                              max_features=0.75,\n",
    "                               min_samples_split=5,\n",
    "                               min_samples_leaf=4,\n",
    "                              max_depth=3)\n",
    "pipe = Pipeline([\n",
    "    ('random', random)\n",
    "])\n",
    "\n",
    "pipe.fit(X_train, y_train)\n",
    "\n",
    "y_train_pred = pipe.predict(X_train)\n",
    "y_pred = pipe.predict(X_test)\n",
    "\n",
    "print('Train R2 score', metrics.r2_score(y_train,y_train_pred))\n",
    "print('Train MAE', metrics.mean_absolute_error(y_train,y_train_pred))\n",
    "print(\"Train MAE on the orig price:\", np.exp(metrics.mean_absolute_error(y_train,y_train_pred)), \"\\n\")\n",
    "\n",
    "print('Test R2 score', metrics.r2_score(y_test,y_pred))\n",
    "print('Test MAE', metrics.mean_absolute_error(y_test,y_pred))\n",
    "print(\"Test MAE on the orig price:\", np.exp(metrics.mean_absolute_error(y_test,y_pred)))"
   ],
   "id": "b113b99ca00e0662",
   "outputs": [
    {
     "name": "stdout",
     "output_type": "stream",
     "text": [
      "Train R2 score 0.9279339746685592\n",
      "Train MAE 0.04047670817393145\n",
      "Train MAE on the orig price: 1.041307055477236 \n",
      "\n",
      "Test R2 score 0.9165788859639327\n",
      "Test MAE 0.04330252486729706\n",
      "Test MAE on the orig price: 1.0442537597998105\n"
     ]
    }
   ],
   "execution_count": 30
  },
  {
   "metadata": {
    "ExecuteTime": {
     "end_time": "2025-05-11T22:57:09.625683Z",
     "start_time": "2025-05-11T22:57:09.614031Z"
    }
   },
   "cell_type": "code",
   "source": [
    "X_train, X_test, y_train, y_test = train_test_split(x, y, test_size=0.2, random_state=42)\n",
    "\n",
    "X_train.shape,X_test.shape"
   ],
   "id": "2d74676361882f6d",
   "outputs": [
    {
     "data": {
      "text/plain": [
       "((2989, 6), (748, 6))"
      ]
     },
     "execution_count": 31,
     "metadata": {},
     "output_type": "execute_result"
    }
   ],
   "execution_count": 31
  },
  {
   "cell_type": "code",
   "id": "21f765b80bed64fa",
   "metadata": {
    "ExecuteTime": {
     "end_time": "2025-05-11T22:57:09.690175Z",
     "start_time": "2025-05-11T22:57:09.683124Z"
    }
   },
   "source": [
    "rfr = RandomForestRegressor()"
   ],
   "outputs": [],
   "execution_count": 32
  },
  {
   "cell_type": "code",
   "id": "3f38d800bf262e06",
   "metadata": {
    "ExecuteTime": {
     "end_time": "2025-05-11T23:01:06.067878Z",
     "start_time": "2025-05-11T23:01:06.059435Z"
    }
   },
   "source": [
    "param_grid = {\n",
    "    \"n_estimators\": [20,50,100],\n",
    "    \"max_features\": [\"sqrt\", \"log2\"],\n",
    "    \"min_samples_split\": [1,2,4],\n",
    "    \"max_depth\": [2,5,7],\n",
    "    \"bootstrap\": [True, False],\n",
    "}\n"
   ],
   "outputs": [],
   "execution_count": 52
  },
  {
   "cell_type": "code",
   "id": "ac9c2dfdac009f20",
   "metadata": {
    "ExecuteTime": {
     "end_time": "2025-05-11T23:01:08.318292Z",
     "start_time": "2025-05-11T23:01:08.311571Z"
    }
   },
   "source": [
    "grid_search = GridSearchCV(rfr, param_grid, cv=5, scoring='r2')"
   ],
   "outputs": [],
   "execution_count": 53
  },
  {
   "cell_type": "code",
   "id": "45578d8b364c4e74",
   "metadata": {
    "ExecuteTime": {
     "end_time": "2025-05-11T23:00:10.696452Z",
     "start_time": "2025-05-11T23:00:10.690153Z"
    }
   },
   "source": [
    "rfr =  RandomForestRegressor(bootstrap=True, max_depth=7, max_features='sqrt',\n",
    "                      min_samples_split=4, n_estimators=100)"
   ],
   "outputs": [],
   "execution_count": 41
  },
  {
   "cell_type": "code",
   "id": "195ebfb223b260ff",
   "metadata": {
    "ExecuteTime": {
     "end_time": "2025-05-11T23:00:12.982758Z",
     "start_time": "2025-05-11T23:00:12.496939Z"
    }
   },
   "source": [
    "rf_grid = rfr.fit(X_train,y_train)"
   ],
   "outputs": [],
   "execution_count": 42
  },
  {
   "cell_type": "code",
   "id": "ba1d4f73bbf3f56d",
   "metadata": {
    "ExecuteTime": {
     "end_time": "2025-05-11T23:00:14.593727Z",
     "start_time": "2025-05-11T23:00:14.525519Z"
    }
   },
   "source": [
    "y_train_pred = rf_grid.predict(X_train)\n",
    "y_pred = rf_grid.predict(X_test)\n",
    "\n",
    "print('Train R2 score', metrics.r2_score(y_train,y_train_pred))\n",
    "print('Train MAE', metrics.mean_absolute_error(y_train,y_train_pred))\n",
    "print(\"Train MAE on the orig price:\", np.exp(metrics.mean_absolute_error(y_train,y_train_pred)), \"\\n\")\n",
    "\n",
    "print('Test R2 score', metrics.r2_score(y_test,y_pred))\n",
    "print('Test MAE', metrics.mean_absolute_error(y_test,y_pred))\n",
    "print(\"Test MAE on the orig price:\", np.exp(metrics.mean_absolute_error(y_test,y_pred)))"
   ],
   "outputs": [
    {
     "name": "stdout",
     "output_type": "stream",
     "text": [
      "Train R2 score 0.9893308766714878\n",
      "Train MAE 0.015549018052247059\n",
      "Train MAE on the orig price: 1.0156705330293734 \n",
      "\n",
      "Test R2 score 0.9840782302657014\n",
      "Test MAE 0.018564925927890708\n",
      "Test MAE on the orig price: 1.0187383255535034\n"
     ]
    }
   ],
   "execution_count": 43
  },
  {
   "cell_type": "code",
   "id": "ca13d9cf9f9a8f66",
   "metadata": {
    "ExecuteTime": {
     "end_time": "2025-05-11T23:00:51.833274Z",
     "start_time": "2025-05-11T23:00:17.062446Z"
    }
   },
   "source": [
    "predicted = []\n",
    "testtrain = np.array(x)\n",
    "for i in range(len(testtrain)):\n",
    "    predicted.append(rfr.predict([testtrain[i]]))\n",
    "\n",
    "predicted"
   ],
   "outputs": [
    {
     "data": {
      "text/plain": [
       "[array([4.73539361]),\n",
       " array([4.7271066]),\n",
       " array([4.88927143]),\n",
       " array([4.73764751]),\n",
       " array([4.72104666]),\n",
       " array([4.71890705]),\n",
       " array([4.71550166]),\n",
       " array([4.71489085]),\n",
       " array([4.70895461]),\n",
       " array([4.71060111]),\n",
       " array([4.70605904]),\n",
       " array([4.70695646]),\n",
       " array([4.70993287]),\n",
       " array([4.71220414]),\n",
       " array([4.71038243]),\n",
       " array([4.700346]),\n",
       " array([4.70589199]),\n",
       " array([4.70849236]),\n",
       " array([4.70425169]),\n",
       " array([4.6992849]),\n",
       " array([4.70411893]),\n",
       " array([4.70266189]),\n",
       " array([4.71082648]),\n",
       " array([4.71084829]),\n",
       " array([4.71102754]),\n",
       " array([4.71103385]),\n",
       " array([4.71118788]),\n",
       " array([4.70597688]),\n",
       " array([4.70658917]),\n",
       " array([4.70983079]),\n",
       " array([4.70961386]),\n",
       " array([4.71163497]),\n",
       " array([4.7171019]),\n",
       " array([4.71578085]),\n",
       " array([4.7176081]),\n",
       " array([4.71810494]),\n",
       " array([4.7170003]),\n",
       " array([4.71505209]),\n",
       " array([4.71369346]),\n",
       " array([4.71372965]),\n",
       " array([4.71337523]),\n",
       " array([4.71421552]),\n",
       " array([4.71686837]),\n",
       " array([4.71793869]),\n",
       " array([4.71811481]),\n",
       " array([4.71782367]),\n",
       " array([4.71257464]),\n",
       " array([4.71406215]),\n",
       " array([4.71431473]),\n",
       " array([4.71578636]),\n",
       " array([4.71393267]),\n",
       " array([4.71856983]),\n",
       " array([4.71703993]),\n",
       " array([4.7228441]),\n",
       " array([4.72963429]),\n",
       " array([4.88055588]),\n",
       " array([4.7394207]),\n",
       " array([4.73711522]),\n",
       " array([4.73577647]),\n",
       " array([4.73486066]),\n",
       " array([4.73769695]),\n",
       " array([4.73933209]),\n",
       " array([4.73958927]),\n",
       " array([4.74652288]),\n",
       " array([4.74164807]),\n",
       " array([4.73193823]),\n",
       " array([4.73557369]),\n",
       " array([4.73673051]),\n",
       " array([4.75290241]),\n",
       " array([4.75540315]),\n",
       " array([4.74814719]),\n",
       " array([4.76262469]),\n",
       " array([4.74755697]),\n",
       " array([4.74610486]),\n",
       " array([4.75300137]),\n",
       " array([4.7579269]),\n",
       " array([4.76491497]),\n",
       " array([4.74727315]),\n",
       " array([4.74553776]),\n",
       " array([4.75626419]),\n",
       " array([4.76305919]),\n",
       " array([4.76061233]),\n",
       " array([4.78759672]),\n",
       " array([4.7905633]),\n",
       " array([4.78821075]),\n",
       " array([4.78953107]),\n",
       " array([4.78507194]),\n",
       " array([4.78716323]),\n",
       " array([4.76880678]),\n",
       " array([4.76050272]),\n",
       " array([4.76327788]),\n",
       " array([4.76469811]),\n",
       " array([4.76199682]),\n",
       " array([4.7663819]),\n",
       " array([4.77380624]),\n",
       " array([4.7703335]),\n",
       " array([4.77096246]),\n",
       " array([4.76906009]),\n",
       " array([4.76449819]),\n",
       " array([4.75980532]),\n",
       " array([4.76622712]),\n",
       " array([4.76751899]),\n",
       " array([4.7672392]),\n",
       " array([4.76709574]),\n",
       " array([4.76707931]),\n",
       " array([4.76747772]),\n",
       " array([4.77836466]),\n",
       " array([4.76913035]),\n",
       " array([4.78129948]),\n",
       " array([4.78571319]),\n",
       " array([4.78100863]),\n",
       " array([4.78375181]),\n",
       " array([4.7822836]),\n",
       " array([4.78067819]),\n",
       " array([4.78551575]),\n",
       " array([4.78175635]),\n",
       " array([4.7725138]),\n",
       " array([4.78138508]),\n",
       " array([4.76508474]),\n",
       " array([4.76429595]),\n",
       " array([4.762468]),\n",
       " array([4.76466054]),\n",
       " array([4.76386803]),\n",
       " array([4.76542854]),\n",
       " array([4.76544823]),\n",
       " array([4.76590099]),\n",
       " array([4.76658944]),\n",
       " array([4.76632493]),\n",
       " array([4.76176399]),\n",
       " array([4.75800794]),\n",
       " array([4.75897888]),\n",
       " array([4.76283549]),\n",
       " array([4.76114057]),\n",
       " array([4.76185044]),\n",
       " array([4.76455863]),\n",
       " array([4.76107619]),\n",
       " array([4.75682602]),\n",
       " array([4.75890101]),\n",
       " array([4.7601246]),\n",
       " array([4.75934746]),\n",
       " array([4.75930636]),\n",
       " array([4.75694631]),\n",
       " array([4.76051947]),\n",
       " array([4.7638203]),\n",
       " array([4.75920202]),\n",
       " array([4.76184581]),\n",
       " array([4.76234526]),\n",
       " array([4.7659452]),\n",
       " array([4.76740185]),\n",
       " array([4.7725923]),\n",
       " array([4.77536659]),\n",
       " array([4.77241459]),\n",
       " array([4.77096617]),\n",
       " array([4.76763413]),\n",
       " array([4.76722998]),\n",
       " array([4.77165703]),\n",
       " array([4.78582822]),\n",
       " array([4.78738727]),\n",
       " array([4.79008951]),\n",
       " array([4.7878186]),\n",
       " array([4.79326115]),\n",
       " array([4.79409326]),\n",
       " array([4.79388839]),\n",
       " array([4.79386878]),\n",
       " array([4.7942961]),\n",
       " array([4.79447205]),\n",
       " array([4.7942961]),\n",
       " array([4.7943176]),\n",
       " array([4.79401359]),\n",
       " array([4.82085431]),\n",
       " array([4.82056887]),\n",
       " array([4.83083468]),\n",
       " array([4.8231402]),\n",
       " array([4.82371821]),\n",
       " array([4.83002509]),\n",
       " array([4.82573133]),\n",
       " array([4.82874576]),\n",
       " array([4.8478411]),\n",
       " array([4.84874601]),\n",
       " array([4.83288814]),\n",
       " array([4.86288032]),\n",
       " array([4.85637922]),\n",
       " array([4.86530165]),\n",
       " array([4.85474557]),\n",
       " array([4.86288539]),\n",
       " array([4.87521294]),\n",
       " array([4.87334939]),\n",
       " array([4.87739928]),\n",
       " array([4.8966139]),\n",
       " array([4.8780297]),\n",
       " array([4.88757726]),\n",
       " array([4.89159575]),\n",
       " array([4.88946023]),\n",
       " array([4.88825506]),\n",
       " array([4.8742194]),\n",
       " array([4.88673619]),\n",
       " array([4.88626094]),\n",
       " array([4.88088647]),\n",
       " array([4.88325669]),\n",
       " array([4.88776292]),\n",
       " array([4.88625453]),\n",
       " array([4.88757076]),\n",
       " array([4.89717946]),\n",
       " array([4.88999635]),\n",
       " array([4.88866408]),\n",
       " array([4.88985428]),\n",
       " array([4.91391947]),\n",
       " array([4.92057258]),\n",
       " array([4.92636391]),\n",
       " array([4.92071183]),\n",
       " array([4.93023812]),\n",
       " array([4.96237825]),\n",
       " array([4.91102154]),\n",
       " array([4.90150416]),\n",
       " array([4.91128601]),\n",
       " array([4.90561947]),\n",
       " array([4.93754976]),\n",
       " array([4.95065555]),\n",
       " array([4.95995674]),\n",
       " array([4.94964555]),\n",
       " array([4.95339004]),\n",
       " array([4.94188829]),\n",
       " array([4.94569719]),\n",
       " array([4.95318248]),\n",
       " array([4.9445269]),\n",
       " array([4.92344457]),\n",
       " array([4.92214128]),\n",
       " array([4.93663869]),\n",
       " array([4.92365567]),\n",
       " array([4.94203318]),\n",
       " array([4.93310749]),\n",
       " array([4.93614311]),\n",
       " array([4.93480447]),\n",
       " array([4.93149884]),\n",
       " array([4.92380304]),\n",
       " array([4.92761653]),\n",
       " array([4.92816439]),\n",
       " array([4.92895506]),\n",
       " array([4.92631869]),\n",
       " array([4.9274477]),\n",
       " array([4.92741802]),\n",
       " array([4.92111264]),\n",
       " array([4.937848]),\n",
       " array([4.93841275]),\n",
       " array([4.93627994]),\n",
       " array([4.95654085]),\n",
       " array([4.94288502]),\n",
       " array([4.93470975]),\n",
       " array([4.92523813]),\n",
       " array([4.92276035]),\n",
       " array([4.93120189]),\n",
       " array([4.93269887]),\n",
       " array([4.92449933]),\n",
       " array([4.92569736]),\n",
       " array([4.91635798]),\n",
       " array([4.91356411]),\n",
       " array([4.91657782]),\n",
       " array([4.91666579]),\n",
       " array([4.91141511]),\n",
       " array([4.91154332]),\n",
       " array([4.91043308]),\n",
       " array([4.90876548]),\n",
       " array([4.91251496]),\n",
       " array([4.91097959]),\n",
       " array([4.91256509]),\n",
       " array([4.91418521]),\n",
       " array([4.91708543]),\n",
       " array([4.91359614]),\n",
       " array([4.91606565]),\n",
       " array([4.91719855]),\n",
       " array([4.92182487]),\n",
       " array([4.92798027]),\n",
       " array([4.9291484]),\n",
       " array([4.926027]),\n",
       " array([4.93185328]),\n",
       " array([4.93416342]),\n",
       " array([4.94704785]),\n",
       " array([4.9410827]),\n",
       " array([4.95974792]),\n",
       " array([4.96613108]),\n",
       " array([4.95217012]),\n",
       " array([4.95724205]),\n",
       " array([4.95636331]),\n",
       " array([4.95739818]),\n",
       " array([4.95874281]),\n",
       " array([4.959098]),\n",
       " array([4.95821207]),\n",
       " array([4.95677272]),\n",
       " array([4.96778416]),\n",
       " array([4.97002409]),\n",
       " array([4.97051223]),\n",
       " array([4.96898924]),\n",
       " array([4.965078]),\n",
       " array([4.97877136]),\n",
       " array([4.97907914]),\n",
       " array([5.01896259]),\n",
       " array([5.00343717]),\n",
       " array([5.00614251]),\n",
       " array([4.99852343]),\n",
       " array([4.99424642]),\n",
       " array([4.99166083]),\n",
       " array([4.99059168]),\n",
       " array([4.98822821]),\n",
       " array([4.98677128]),\n",
       " array([4.99098063]),\n",
       " array([4.99037893]),\n",
       " array([4.98791893]),\n",
       " array([4.98055338]),\n",
       " array([4.97957229]),\n",
       " array([4.9876687]),\n",
       " array([4.98830307]),\n",
       " array([4.98869535]),\n",
       " array([4.98856617]),\n",
       " array([4.99036596]),\n",
       " array([4.98989676]),\n",
       " array([4.9969917]),\n",
       " array([4.99313612]),\n",
       " array([4.9948966]),\n",
       " array([4.99204453]),\n",
       " array([4.99739134]),\n",
       " array([4.99891732]),\n",
       " array([4.99434575]),\n",
       " array([4.99358268]),\n",
       " array([4.88390626]),\n",
       " array([4.99294305]),\n",
       " array([5.00056204]),\n",
       " array([5.00445588]),\n",
       " array([5.00696991]),\n",
       " array([5.01067914]),\n",
       " array([5.00670903]),\n",
       " array([5.00029635]),\n",
       " array([5.00363231]),\n",
       " array([4.99565981]),\n",
       " array([5.00451249]),\n",
       " array([5.00529052]),\n",
       " array([5.01025035]),\n",
       " array([5.00176979]),\n",
       " array([5.00316333]),\n",
       " array([4.99828096]),\n",
       " array([5.00119052]),\n",
       " array([5.00035148]),\n",
       " array([5.0007326]),\n",
       " array([4.99880853]),\n",
       " array([4.99857932]),\n",
       " array([5.00011108]),\n",
       " array([4.99538855]),\n",
       " array([4.9950872]),\n",
       " array([4.99195593]),\n",
       " array([4.99695823]),\n",
       " array([5.00236199]),\n",
       " array([4.99284479]),\n",
       " array([4.99223914]),\n",
       " array([4.99268919]),\n",
       " array([4.99392154]),\n",
       " array([4.9936513]),\n",
       " array([4.99096516]),\n",
       " array([4.99289748]),\n",
       " array([4.99321348]),\n",
       " array([4.98578782]),\n",
       " array([4.99107606]),\n",
       " array([4.99896613]),\n",
       " array([4.99841658]),\n",
       " array([5.00067965]),\n",
       " array([5.00538535]),\n",
       " array([5.00147649]),\n",
       " array([4.99975975]),\n",
       " array([5.01511234]),\n",
       " array([5.02411238]),\n",
       " array([5.04342648]),\n",
       " array([5.01549401]),\n",
       " array([5.00271314]),\n",
       " array([4.9959676]),\n",
       " array([4.99480874]),\n",
       " array([4.99786825]),\n",
       " array([4.99970633]),\n",
       " array([5.00181563]),\n",
       " array([5.00211687]),\n",
       " array([4.99722127]),\n",
       " array([4.9972818]),\n",
       " array([5.00718641]),\n",
       " array([5.00674712]),\n",
       " array([5.0076592]),\n",
       " array([5.00869796]),\n",
       " array([5.00791023]),\n",
       " array([5.00801595]),\n",
       " array([5.01118361]),\n",
       " array([5.01294126]),\n",
       " array([5.01007253]),\n",
       " array([5.01018214]),\n",
       " array([5.01245754]),\n",
       " array([5.01295702]),\n",
       " array([5.01340892]),\n",
       " array([5.01196782]),\n",
       " array([5.02445346]),\n",
       " array([5.03492197]),\n",
       " array([5.09152378]),\n",
       " array([5.10033132]),\n",
       " array([5.11746218]),\n",
       " array([5.10589678]),\n",
       " array([5.13941068]),\n",
       " array([5.12039627]),\n",
       " array([5.13081804]),\n",
       " array([5.13136671]),\n",
       " array([5.14028828]),\n",
       " array([5.1325404]),\n",
       " array([5.15259934]),\n",
       " array([5.15812668]),\n",
       " array([5.15718383]),\n",
       " array([5.15226263]),\n",
       " array([5.14123943]),\n",
       " array([5.14628893]),\n",
       " array([5.14504302]),\n",
       " array([5.1392993]),\n",
       " array([5.13423625]),\n",
       " array([5.11014188]),\n",
       " array([5.12666958]),\n",
       " array([5.13351675]),\n",
       " array([5.15577533]),\n",
       " array([5.13406741]),\n",
       " array([5.13980518]),\n",
       " array([5.14085079]),\n",
       " array([5.13151162]),\n",
       " array([5.11791832]),\n",
       " array([5.12941992]),\n",
       " array([5.12071824]),\n",
       " array([5.1297603]),\n",
       " array([5.12591582]),\n",
       " array([5.12736893]),\n",
       " array([5.13051904]),\n",
       " array([5.09225022]),\n",
       " array([5.07520946]),\n",
       " array([5.07519133]),\n",
       " array([5.08962087]),\n",
       " array([5.0375288]),\n",
       " array([5.07915894]),\n",
       " array([5.05403402]),\n",
       " array([5.06501825]),\n",
       " array([5.06762035]),\n",
       " array([5.01989064]),\n",
       " array([5.08334726]),\n",
       " array([5.07680588]),\n",
       " array([5.0867612]),\n",
       " array([5.09563793]),\n",
       " array([5.09929093]),\n",
       " array([5.09540555]),\n",
       " array([5.09804418]),\n",
       " array([5.09679736]),\n",
       " array([5.0957441]),\n",
       " array([5.08936091]),\n",
       " array([5.07025426]),\n",
       " array([5.08314902]),\n",
       " array([5.08492123]),\n",
       " array([5.09337151]),\n",
       " array([5.09909888]),\n",
       " array([5.0941204]),\n",
       " array([5.09018437]),\n",
       " array([5.09893227]),\n",
       " array([5.09422647]),\n",
       " array([5.10017504]),\n",
       " array([5.10380739]),\n",
       " array([5.10254452]),\n",
       " array([5.0940372]),\n",
       " array([5.08617627]),\n",
       " array([5.1023668]),\n",
       " array([5.10399746]),\n",
       " array([5.0832412]),\n",
       " array([5.10399565]),\n",
       " array([5.10503896]),\n",
       " array([5.09918052]),\n",
       " array([5.09490532]),\n",
       " array([5.09725167]),\n",
       " array([5.09325778]),\n",
       " array([5.09632235]),\n",
       " array([5.08723557]),\n",
       " array([5.08238794]),\n",
       " array([5.0956036]),\n",
       " array([5.09179178]),\n",
       " array([5.09883629]),\n",
       " array([5.09842824]),\n",
       " array([5.09440328]),\n",
       " array([5.09108354]),\n",
       " array([5.09559016]),\n",
       " array([5.09543402]),\n",
       " array([5.08609246]),\n",
       " array([5.08956849]),\n",
       " array([5.08541922]),\n",
       " array([5.06856778]),\n",
       " array([5.03825017]),\n",
       " array([5.04237623]),\n",
       " array([5.04580922]),\n",
       " array([5.03900689]),\n",
       " array([5.0425868]),\n",
       " array([5.04329798]),\n",
       " array([5.04230613]),\n",
       " array([5.04337607]),\n",
       " array([5.03631334]),\n",
       " array([5.0329339]),\n",
       " array([5.0232205]),\n",
       " array([5.03774505]),\n",
       " array([5.04705997]),\n",
       " array([5.04723128]),\n",
       " array([5.0459862]),\n",
       " array([5.04442279]),\n",
       " array([5.0444094]),\n",
       " array([5.06593643]),\n",
       " array([5.06954844]),\n",
       " array([5.07148151]),\n",
       " array([5.05077259]),\n",
       " array([5.0760128]),\n",
       " array([5.07747791]),\n",
       " array([5.07841703]),\n",
       " array([5.09157959]),\n",
       " array([5.09262302]),\n",
       " array([5.09198128]),\n",
       " array([5.09747926]),\n",
       " array([5.09616938]),\n",
       " array([5.10176436]),\n",
       " array([5.1013553]),\n",
       " array([5.09791849]),\n",
       " array([5.10176436]),\n",
       " array([5.10014263]),\n",
       " array([5.10070263]),\n",
       " array([5.10452845]),\n",
       " array([5.10257067]),\n",
       " array([5.09515012]),\n",
       " array([5.08597273]),\n",
       " array([5.09799586]),\n",
       " array([5.10191827]),\n",
       " array([5.10374178]),\n",
       " array([5.1021815]),\n",
       " array([5.10373384]),\n",
       " array([5.10436618]),\n",
       " array([5.10402921]),\n",
       " array([5.05838361]),\n",
       " array([5.06586928]),\n",
       " array([5.09577326]),\n",
       " array([5.10119279]),\n",
       " array([5.09583609]),\n",
       " array([5.08259509]),\n",
       " array([5.10319133]),\n",
       " array([5.09292249]),\n",
       " array([5.10403306]),\n",
       " array([5.10132869]),\n",
       " array([5.10105695]),\n",
       " array([5.10474033]),\n",
       " array([5.10636837]),\n",
       " array([5.10230457]),\n",
       " array([5.10479585]),\n",
       " array([5.09679862]),\n",
       " array([5.10134266]),\n",
       " array([5.10021241]),\n",
       " array([5.10436161]),\n",
       " array([5.09742127]),\n",
       " array([5.09765325]),\n",
       " array([5.09514665]),\n",
       " array([5.09725891]),\n",
       " array([5.10342216]),\n",
       " array([5.10086159]),\n",
       " array([5.09733424]),\n",
       " array([5.09771137]),\n",
       " array([5.09771137]),\n",
       " array([5.10325087]),\n",
       " array([5.10118355]),\n",
       " array([5.09284866]),\n",
       " array([5.09473249]),\n",
       " array([4.88254648]),\n",
       " array([5.09497909]),\n",
       " array([5.09335386]),\n",
       " array([5.09159952]),\n",
       " array([5.09750911]),\n",
       " array([5.09159952]),\n",
       " array([5.09140475]),\n",
       " array([5.09159952]),\n",
       " array([5.09159952]),\n",
       " array([5.09165135]),\n",
       " array([5.09159952]),\n",
       " array([5.08932373]),\n",
       " array([5.08946349]),\n",
       " array([5.08757022]),\n",
       " array([5.09161655]),\n",
       " array([5.09176682]),\n",
       " array([5.09169005]),\n",
       " array([5.09065512]),\n",
       " array([5.08751896]),\n",
       " array([5.08614669]),\n",
       " array([5.08667717]),\n",
       " array([5.08763152]),\n",
       " array([5.05594175]),\n",
       " array([5.05179976]),\n",
       " array([5.04935473]),\n",
       " array([5.0488575]),\n",
       " array([5.04212826]),\n",
       " array([5.03815351]),\n",
       " array([5.0343526]),\n",
       " array([5.04082113]),\n",
       " array([5.04481959]),\n",
       " array([5.04394883]),\n",
       " array([5.04309115]),\n",
       " array([5.04210369]),\n",
       " array([5.04136491]),\n",
       " array([5.04197092]),\n",
       " array([5.04266119]),\n",
       " array([5.04251914]),\n",
       " array([5.04217278]),\n",
       " array([5.04512166]),\n",
       " array([5.04314089]),\n",
       " array([5.04467499]),\n",
       " array([5.0469016]),\n",
       " array([5.04612844]),\n",
       " array([5.04449915]),\n",
       " array([5.04622929]),\n",
       " array([5.04668609]),\n",
       " array([5.04679266]),\n",
       " array([5.04960492]),\n",
       " array([5.04843539]),\n",
       " array([5.0476243]),\n",
       " array([5.04836771]),\n",
       " array([5.04668691]),\n",
       " array([5.03143674]),\n",
       " array([5.03749352]),\n",
       " array([5.03667312]),\n",
       " array([5.03530528]),\n",
       " array([5.03612725]),\n",
       " array([5.02169517]),\n",
       " array([5.0412475]),\n",
       " array([5.04317261]),\n",
       " array([5.04703115]),\n",
       " array([5.04617849]),\n",
       " array([5.04117184]),\n",
       " array([5.04129164]),\n",
       " array([5.03706049]),\n",
       " array([5.03989705]),\n",
       " array([5.03705122]),\n",
       " array([5.04103391]),\n",
       " array([5.04061011]),\n",
       " array([5.04140326]),\n",
       " array([5.04225201]),\n",
       " array([5.04269073]),\n",
       " array([5.04344381]),\n",
       " array([5.03383807]),\n",
       " array([5.03319513]),\n",
       " array([5.03394542]),\n",
       " array([5.03697071]),\n",
       " array([5.04262443]),\n",
       " array([5.04954625]),\n",
       " array([5.04530598]),\n",
       " array([5.0424393]),\n",
       " array([5.03936105]),\n",
       " array([5.04476955]),\n",
       " array([5.04544288]),\n",
       " array([5.04706694]),\n",
       " array([5.04740718]),\n",
       " array([5.04746105]),\n",
       " array([5.04740718]),\n",
       " array([5.04565703]),\n",
       " array([5.04647946]),\n",
       " array([5.04669867]),\n",
       " array([5.04971786]),\n",
       " array([5.05180597]),\n",
       " array([5.05418096]),\n",
       " array([5.05905619]),\n",
       " array([5.08597976]),\n",
       " array([5.08886737]),\n",
       " array([5.08973169]),\n",
       " array([5.08961478]),\n",
       " array([5.08673973]),\n",
       " array([5.08236266]),\n",
       " array([5.0795947]),\n",
       " array([5.09471374]),\n",
       " array([5.09587298]),\n",
       " array([5.0953236]),\n",
       " array([5.1010428]),\n",
       " array([5.10448099]),\n",
       " array([5.10359104]),\n",
       " array([5.105736]),\n",
       " array([5.10621115]),\n",
       " array([5.10889494]),\n",
       " array([5.09799491]),\n",
       " array([5.10696881]),\n",
       " array([5.10775857]),\n",
       " array([5.11102571]),\n",
       " array([5.11083093]),\n",
       " array([5.11128985]),\n",
       " array([5.11148064]),\n",
       " array([5.11075889]),\n",
       " array([5.11120314]),\n",
       " array([5.11180978]),\n",
       " array([5.11173589]),\n",
       " array([5.11169407]),\n",
       " array([5.11208182]),\n",
       " array([5.1126242]),\n",
       " array([5.10168761]),\n",
       " array([5.10935354]),\n",
       " array([5.09705604]),\n",
       " array([5.11173339]),\n",
       " array([5.11151703]),\n",
       " array([5.11100305]),\n",
       " array([5.11020765]),\n",
       " array([5.10965403]),\n",
       " array([5.10923853]),\n",
       " array([5.1087736]),\n",
       " array([5.10844277]),\n",
       " array([5.10388139]),\n",
       " array([5.10772369]),\n",
       " array([5.09887123]),\n",
       " array([5.09699323]),\n",
       " array([5.10166308]),\n",
       " array([5.10115685]),\n",
       " array([4.88212381]),\n",
       " array([4.88254648]),\n",
       " array([5.10211336]),\n",
       " array([5.1021626]),\n",
       " array([5.09487575]),\n",
       " array([5.09641972]),\n",
       " array([5.10126353]),\n",
       " array([5.09869026]),\n",
       " array([5.10254223]),\n",
       " array([5.10244335]),\n",
       " array([5.08737582]),\n",
       " array([5.10367887]),\n",
       " array([5.10375363]),\n",
       " array([5.10097717]),\n",
       " array([5.09848109]),\n",
       " array([5.10508285]),\n",
       " array([5.10499584]),\n",
       " array([5.10546955]),\n",
       " array([5.11096859]),\n",
       " array([5.11043823]),\n",
       " array([5.11062842]),\n",
       " array([5.10978402]),\n",
       " array([5.11017136]),\n",
       " array([5.10674597]),\n",
       " array([5.10901353]),\n",
       " array([5.10392616]),\n",
       " array([5.10413315]),\n",
       " array([5.10680656]),\n",
       " array([5.10905066]),\n",
       " array([5.10934944]),\n",
       " array([5.10942343]),\n",
       " array([5.10957154]),\n",
       " array([5.10710565]),\n",
       " array([5.10303524]),\n",
       " array([5.10326924]),\n",
       " array([5.09768888]),\n",
       " array([5.09733294]),\n",
       " array([5.09009233]),\n",
       " array([5.08915218]),\n",
       " array([5.08841338]),\n",
       " array([5.08933162]),\n",
       " array([5.08933162]),\n",
       " array([5.08113058]),\n",
       " array([5.08933162]),\n",
       " array([5.09156803]),\n",
       " array([5.09099511]),\n",
       " array([5.09144277]),\n",
       " array([5.09064455]),\n",
       " array([5.09294794]),\n",
       " array([5.09376334]),\n",
       " array([5.09485161]),\n",
       " array([5.09134865]),\n",
       " array([5.09543215]),\n",
       " array([5.09630733]),\n",
       " array([5.09581108]),\n",
       " array([5.08747055]),\n",
       " array([5.08764295]),\n",
       " array([5.09323514]),\n",
       " array([5.08725045]),\n",
       " array([5.08982095]),\n",
       " array([5.08488533]),\n",
       " array([5.07841844]),\n",
       " array([5.07674226]),\n",
       " array([5.0718094]),\n",
       " array([5.07834728]),\n",
       " array([5.07161137]),\n",
       " array([5.07971745]),\n",
       " array([5.07172919]),\n",
       " array([5.0562436]),\n",
       " array([5.0641309]),\n",
       " array([5.06940774]),\n",
       " array([5.07219973]),\n",
       " array([5.06017994]),\n",
       " array([5.05385165]),\n",
       " array([5.05607216]),\n",
       " array([5.0497002]),\n",
       " array([5.03274647]),\n",
       " array([5.03139896]),\n",
       " array([5.04390218]),\n",
       " array([5.03954653]),\n",
       " array([5.03992829]),\n",
       " array([5.05004805]),\n",
       " array([5.03784512]),\n",
       " array([5.03731833]),\n",
       " array([5.03992207]),\n",
       " array([5.03810416]),\n",
       " array([5.04302246]),\n",
       " array([5.04376772]),\n",
       " array([5.03556252]),\n",
       " array([5.04149182]),\n",
       " array([5.03024419]),\n",
       " array([5.03951607]),\n",
       " array([5.0396697]),\n",
       " array([5.03926025]),\n",
       " array([5.03846269]),\n",
       " array([5.04131196]),\n",
       " array([5.04135163]),\n",
       " array([5.03768957]),\n",
       " array([5.04192127]),\n",
       " array([5.03662854]),\n",
       " array([5.04238287]),\n",
       " array([5.03678653]),\n",
       " array([5.03856096]),\n",
       " array([5.03514585]),\n",
       " array([4.8829401]),\n",
       " array([5.0366846]),\n",
       " array([5.03099698]),\n",
       " array([5.03672938]),\n",
       " array([5.02664634]),\n",
       " array([5.02958131]),\n",
       " array([5.02869338]),\n",
       " array([5.02736708]),\n",
       " array([5.01650328]),\n",
       " array([5.01436423]),\n",
       " array([4.96633102]),\n",
       " array([4.89365485]),\n",
       " array([4.90829876]),\n",
       " array([4.89881911]),\n",
       " array([4.90494104]),\n",
       " array([4.90246375]),\n",
       " array([4.90924347]),\n",
       " array([4.89591007]),\n",
       " array([4.90831524]),\n",
       " array([4.937441]),\n",
       " array([4.9360892]),\n",
       " array([4.93970166]),\n",
       " array([4.93424054]),\n",
       " array([4.92754976]),\n",
       " array([4.93518004]),\n",
       " array([4.9295693]),\n",
       " array([4.93161286]),\n",
       " array([4.9274955]),\n",
       " array([4.92561499]),\n",
       " array([4.92165984]),\n",
       " array([4.92097693]),\n",
       " array([4.91024848]),\n",
       " array([4.90272337]),\n",
       " array([4.89295647]),\n",
       " array([4.89384733]),\n",
       " array([4.88280348]),\n",
       " array([4.89304321]),\n",
       " array([4.88441002]),\n",
       " array([4.88704077]),\n",
       " array([4.89049532]),\n",
       " array([4.88882475]),\n",
       " array([4.88600719]),\n",
       " array([4.88882678]),\n",
       " array([4.89565233]),\n",
       " array([4.88842307]),\n",
       " array([4.89546271]),\n",
       " array([4.8973127]),\n",
       " array([4.89911463]),\n",
       " array([4.9046727]),\n",
       " array([4.87864343]),\n",
       " array([4.88463012]),\n",
       " array([4.87783619]),\n",
       " array([4.87562614]),\n",
       " array([4.87591475]),\n",
       " array([4.88073151]),\n",
       " array([4.8748092]),\n",
       " array([4.86592032]),\n",
       " array([4.85991026]),\n",
       " array([4.80644829]),\n",
       " array([4.82079773]),\n",
       " array([4.81049163]),\n",
       " array([4.8090614]),\n",
       " array([4.77610951]),\n",
       " array([4.77621886]),\n",
       " array([4.79841672]),\n",
       " array([4.80507254]),\n",
       " array([4.79850081]),\n",
       " array([4.80363492]),\n",
       " array([4.79070465]),\n",
       " array([4.79512427]),\n",
       " array([4.79468726]),\n",
       " array([4.79458639]),\n",
       " array([4.82780974]),\n",
       " array([4.82026344]),\n",
       " array([4.82693608]),\n",
       " array([4.82699805]),\n",
       " array([4.81350608]),\n",
       " array([4.81404356]),\n",
       " array([4.8197177]),\n",
       " array([4.84519728]),\n",
       " array([4.84614329]),\n",
       " array([4.8297955]),\n",
       " array([4.83138756]),\n",
       " array([4.8281066]),\n",
       " array([4.82355435]),\n",
       " array([4.82223144]),\n",
       " array([4.82233087]),\n",
       " array([4.82145097]),\n",
       " array([4.82268007]),\n",
       " array([4.82293298]),\n",
       " array([4.81717361]),\n",
       " array([4.82079978]),\n",
       " array([4.83749766]),\n",
       " array([4.84857095]),\n",
       " array([4.85643718]),\n",
       " array([4.85702241]),\n",
       " array([4.85935281]),\n",
       " array([4.88792402]),\n",
       " array([4.89053833]),\n",
       " array([4.88762577]),\n",
       " array([4.88196055]),\n",
       " array([4.88816337]),\n",
       " array([4.88978297]),\n",
       " array([4.90090731]),\n",
       " array([4.90537272]),\n",
       " array([4.90698424]),\n",
       " array([4.90939575]),\n",
       " array([4.9082629]),\n",
       " array([4.89861181]),\n",
       " array([4.91517432]),\n",
       " array([4.8981175]),\n",
       " array([4.89524228]),\n",
       " array([4.90934076]),\n",
       " array([4.88989576]),\n",
       " array([4.87573488]),\n",
       " array([4.87460729]),\n",
       " array([4.85525935]),\n",
       " array([4.8644225]),\n",
       " array([4.84710883]),\n",
       " array([4.84682209]),\n",
       " array([4.87213521]),\n",
       " array([4.86262791]),\n",
       " array([4.84286309]),\n",
       " array([4.84116884]),\n",
       " array([4.84263028]),\n",
       " array([4.84321905]),\n",
       " array([4.8408764]),\n",
       " array([4.84181755]),\n",
       " array([4.8420035]),\n",
       " array([4.83252816]),\n",
       " array([4.83644175]),\n",
       " array([4.83399186]),\n",
       " array([4.83651392]),\n",
       " array([4.85389759]),\n",
       " array([4.86128359]),\n",
       " array([4.84587411]),\n",
       " array([4.83385652]),\n",
       " array([4.83106781]),\n",
       " array([4.84281088]),\n",
       " array([4.83204045]),\n",
       " array([4.84134386]),\n",
       " array([4.8451054]),\n",
       " array([4.84683363]),\n",
       " array([4.85263465]),\n",
       " array([4.85728855]),\n",
       " array([4.85607469]),\n",
       " array([4.85780929]),\n",
       " array([4.85796958]),\n",
       " array([4.85949692]),\n",
       " array([4.8579212]),\n",
       " array([4.85882757]),\n",
       " array([4.84710648]),\n",
       " array([4.84816739]),\n",
       " array([4.84376506]),\n",
       " array([4.8435876]),\n",
       " array([4.84540754]),\n",
       " array([4.84904363]),\n",
       " array([4.84482683]),\n",
       " array([4.84908061]),\n",
       " array([4.8276181]),\n",
       " array([4.82622779]),\n",
       " array([4.83305207]),\n",
       " array([4.82895722]),\n",
       " array([4.82168549]),\n",
       " array([4.82119785]),\n",
       " array([4.80441363]),\n",
       " array([4.81035035]),\n",
       " array([4.80580461]),\n",
       " array([4.8081728]),\n",
       " array([4.80073559]),\n",
       " array([4.79771909]),\n",
       " array([4.80137346]),\n",
       " array([4.79042014]),\n",
       " array([4.79380684]),\n",
       " array([4.80201302]),\n",
       " array([4.79776369]),\n",
       " array([4.79958806]),\n",
       " array([4.80463888]),\n",
       " array([4.82436757]),\n",
       " array([4.81775881]),\n",
       " array([4.79968614]),\n",
       " array([4.80070057]),\n",
       " array([4.80424029]),\n",
       " array([4.80297119]),\n",
       " array([4.79998896]),\n",
       " array([4.79213211]),\n",
       " array([4.79539396]),\n",
       " array([4.79723455]),\n",
       " ...]"
      ]
     },
     "execution_count": 44,
     "metadata": {},
     "output_type": "execute_result"
    }
   ],
   "execution_count": 44
  },
  {
   "cell_type": "code",
   "id": "b0c6e899146b0637",
   "metadata": {
    "ExecuteTime": {
     "end_time": "2025-05-11T23:00:51.856567Z",
     "start_time": "2025-05-11T23:00:51.845786Z"
    }
   },
   "source": [
    "ans = [np.exp(predicted[i][0]) for i in range(len(predicted))]"
   ],
   "outputs": [],
   "execution_count": 45
  },
  {
   "cell_type": "code",
   "id": "de4573eb317300de",
   "metadata": {
    "ExecuteTime": {
     "end_time": "2025-05-11T23:00:51.970326Z",
     "start_time": "2025-05-11T23:00:51.958610Z"
    }
   },
   "source": [
    "rounded_gold_close = [round(pred) for pred in ans]\n"
   ],
   "outputs": [],
   "execution_count": 46
  },
  {
   "cell_type": "code",
   "id": "33577b9ee8bd3f1b",
   "metadata": {
    "ExecuteTime": {
     "end_time": "2025-05-11T23:00:52.009663Z",
     "start_time": "2025-05-11T23:00:51.981972Z"
    }
   },
   "source": [
    "df_train['Predicted Gold Close'] = np.array(rounded_gold_close)\n",
    "df_train"
   ],
   "outputs": [
    {
     "data": {
      "text/plain": [
       "      sp500 close  oil close  silver close  eur_usd  palladium open  \\\n",
       "0          114.93      39.06         18.66   1.4478           43.93   \n",
       "1          113.64      38.40         18.41   1.4376           45.18   \n",
       "2          240.61      33.94         19.73   1.1591           83.38   \n",
       "3          115.06      38.93         18.79   1.4269           46.01   \n",
       "4          113.89      37.89         17.86   1.4094           46.59   \n",
       "...           ...        ...           ...      ...             ...   \n",
       "3899       582.35      72.62         30.25   1.0837           94.64   \n",
       "3900       584.59      71.38         32.12   1.0854           97.90   \n",
       "3901       583.63      72.26         32.32   1.1591           98.28   \n",
       "3902       583.32      73.98         33.23   1.1591           98.77   \n",
       "3903       577.99      73.55         32.15   1.1591           98.01   \n",
       "\n",
       "      platinum close  gold close  Predicted Gold Close  \n",
       "0             161.45      112.03                   114  \n",
       "1             160.25      110.86                   113  \n",
       "2              95.38      137.71                   133  \n",
       "3             165.12      111.52                   114  \n",
       "4             163.22      108.94                   112  \n",
       "...              ...         ...                   ...  \n",
       "3899           91.16      248.63                   243  \n",
       "3900           92.98      251.27                   246  \n",
       "3901           92.27      251.22                   247  \n",
       "3902           94.51      253.93                   247  \n",
       "3903           93.53      250.87                   248  \n",
       "\n",
       "[3737 rows x 8 columns]"
      ],
      "text/html": [
       "<div>\n",
       "<style scoped>\n",
       "    .dataframe tbody tr th:only-of-type {\n",
       "        vertical-align: middle;\n",
       "    }\n",
       "\n",
       "    .dataframe tbody tr th {\n",
       "        vertical-align: top;\n",
       "    }\n",
       "\n",
       "    .dataframe thead th {\n",
       "        text-align: right;\n",
       "    }\n",
       "</style>\n",
       "<table border=\"1\" class=\"dataframe\">\n",
       "  <thead>\n",
       "    <tr style=\"text-align: right;\">\n",
       "      <th></th>\n",
       "      <th>sp500 close</th>\n",
       "      <th>oil close</th>\n",
       "      <th>silver close</th>\n",
       "      <th>eur_usd</th>\n",
       "      <th>palladium open</th>\n",
       "      <th>platinum close</th>\n",
       "      <th>gold close</th>\n",
       "      <th>Predicted Gold Close</th>\n",
       "    </tr>\n",
       "  </thead>\n",
       "  <tbody>\n",
       "    <tr>\n",
       "      <th>0</th>\n",
       "      <td>114.93</td>\n",
       "      <td>39.06</td>\n",
       "      <td>18.66</td>\n",
       "      <td>1.4478</td>\n",
       "      <td>43.93</td>\n",
       "      <td>161.45</td>\n",
       "      <td>112.03</td>\n",
       "      <td>114</td>\n",
       "    </tr>\n",
       "    <tr>\n",
       "      <th>1</th>\n",
       "      <td>113.64</td>\n",
       "      <td>38.40</td>\n",
       "      <td>18.41</td>\n",
       "      <td>1.4376</td>\n",
       "      <td>45.18</td>\n",
       "      <td>160.25</td>\n",
       "      <td>110.86</td>\n",
       "      <td>113</td>\n",
       "    </tr>\n",
       "    <tr>\n",
       "      <th>2</th>\n",
       "      <td>240.61</td>\n",
       "      <td>33.94</td>\n",
       "      <td>19.73</td>\n",
       "      <td>1.1591</td>\n",
       "      <td>83.38</td>\n",
       "      <td>95.38</td>\n",
       "      <td>137.71</td>\n",
       "      <td>133</td>\n",
       "    </tr>\n",
       "    <tr>\n",
       "      <th>3</th>\n",
       "      <td>115.06</td>\n",
       "      <td>38.93</td>\n",
       "      <td>18.79</td>\n",
       "      <td>1.4269</td>\n",
       "      <td>46.01</td>\n",
       "      <td>165.12</td>\n",
       "      <td>111.52</td>\n",
       "      <td>114</td>\n",
       "    </tr>\n",
       "    <tr>\n",
       "      <th>4</th>\n",
       "      <td>113.89</td>\n",
       "      <td>37.89</td>\n",
       "      <td>17.86</td>\n",
       "      <td>1.4094</td>\n",
       "      <td>46.59</td>\n",
       "      <td>163.22</td>\n",
       "      <td>108.94</td>\n",
       "      <td>112</td>\n",
       "    </tr>\n",
       "    <tr>\n",
       "      <th>...</th>\n",
       "      <td>...</td>\n",
       "      <td>...</td>\n",
       "      <td>...</td>\n",
       "      <td>...</td>\n",
       "      <td>...</td>\n",
       "      <td>...</td>\n",
       "      <td>...</td>\n",
       "      <td>...</td>\n",
       "    </tr>\n",
       "    <tr>\n",
       "      <th>3899</th>\n",
       "      <td>582.35</td>\n",
       "      <td>72.62</td>\n",
       "      <td>30.25</td>\n",
       "      <td>1.0837</td>\n",
       "      <td>94.64</td>\n",
       "      <td>91.16</td>\n",
       "      <td>248.63</td>\n",
       "      <td>243</td>\n",
       "    </tr>\n",
       "    <tr>\n",
       "      <th>3900</th>\n",
       "      <td>584.59</td>\n",
       "      <td>71.38</td>\n",
       "      <td>32.12</td>\n",
       "      <td>1.0854</td>\n",
       "      <td>97.90</td>\n",
       "      <td>92.98</td>\n",
       "      <td>251.27</td>\n",
       "      <td>246</td>\n",
       "    </tr>\n",
       "    <tr>\n",
       "      <th>3901</th>\n",
       "      <td>583.63</td>\n",
       "      <td>72.26</td>\n",
       "      <td>32.32</td>\n",
       "      <td>1.1591</td>\n",
       "      <td>98.28</td>\n",
       "      <td>92.27</td>\n",
       "      <td>251.22</td>\n",
       "      <td>247</td>\n",
       "    </tr>\n",
       "    <tr>\n",
       "      <th>3902</th>\n",
       "      <td>583.32</td>\n",
       "      <td>73.98</td>\n",
       "      <td>33.23</td>\n",
       "      <td>1.1591</td>\n",
       "      <td>98.77</td>\n",
       "      <td>94.51</td>\n",
       "      <td>253.93</td>\n",
       "      <td>247</td>\n",
       "    </tr>\n",
       "    <tr>\n",
       "      <th>3903</th>\n",
       "      <td>577.99</td>\n",
       "      <td>73.55</td>\n",
       "      <td>32.15</td>\n",
       "      <td>1.1591</td>\n",
       "      <td>98.01</td>\n",
       "      <td>93.53</td>\n",
       "      <td>250.87</td>\n",
       "      <td>248</td>\n",
       "    </tr>\n",
       "  </tbody>\n",
       "</table>\n",
       "<p>3737 rows × 8 columns</p>\n",
       "</div>"
      ]
     },
     "execution_count": 47,
     "metadata": {},
     "output_type": "execute_result"
    }
   ],
   "execution_count": 47
  },
  {
   "cell_type": "code",
   "id": "b7af4b8320434035",
   "metadata": {
    "ExecuteTime": {
     "end_time": "2025-05-11T23:00:52.714553Z",
     "start_time": "2025-05-11T23:00:52.240277Z"
    }
   },
   "source": [
    "sns.distplot(df_train['gold close'],hist=False,color='orange',label='Actual')\n",
    "sns.distplot(df_train['Predicted Gold Close'],hist=False,color='blue',label='Predicted')\n",
    "plt.title('Comparison of Actual vs Predicted Gold Closing Prices', fontsize=16)\n",
    "plt.legend()\n",
    "plt.show()"
   ],
   "outputs": [
    {
     "data": {
      "text/plain": [
       "<Figure size 640x480 with 1 Axes>"
      ],
      "image/png": "[encoded data removed]"
     },
     "metadata": {},
     "output_type": "display_data"
    }
   ],
   "execution_count": 48
  },
  {
   "cell_type": "code",
   "id": "9b5cf3017a230773",
   "metadata": {
    "ExecuteTime": {
     "end_time": "2025-05-11T23:00:06.478077100Z",
     "start_time": "2025-05-11T21:49:39.154206Z"
    }
   },
   "source": [
    "sns.scatterplot(data=df_train, x=\"gold close\", y=\"Predicted Gold Close\")\n",
    "plt.title(\"Actual vs Predicted Gold Closing Prices\", fontsize=16)\n",
    "plt.xlabel(\"Actual Gold Close\", fontsize=12)\n",
    "plt.ylabel(\"Predicted Gold Close\", fontsize=12)\n",
    "plt.grid(True, linestyle='--', alpha=0.6)\n",
    "plt.tight_layout()\n",
    "plt.show()"
   ],
   "outputs": [
    {
     "data": {
      "text/plain": [
       "<Axes: xlabel='gold close', ylabel='Predicted Gold Close'>"
      ]
     },
     "execution_count": 1105,
     "metadata": {},
     "output_type": "execute_result"
    },
    {
     "data": {
      "text/plain": [
       "<Figure size 640x480 with 1 Axes>"
      ],
      "image/png": "[encoded data removed]"
     },
     "metadata": {},
     "output_type": "display_data"
    }
   ],
   "execution_count": 1105
  },
  {
   "cell_type": "code",
   "id": "aaa6c3025c003b7c",
   "metadata": {
    "ExecuteTime": {
     "end_time": "2025-05-11T23:00:52.949015Z",
     "start_time": "2025-05-11T23:00:52.940120Z"
    }
   },
   "source": [
    "df_train[\"log(Gold close)\"] = np.log(df_train[\"gold close\"])\n",
    "df_train[\"log(Pred_Gold_Close)\"] = np.log(df_train[\"Predicted Gold Close\"])"
   ],
   "outputs": [],
   "execution_count": 50
  },
  {
   "cell_type": "code",
   "id": "324cf34f8bedcdef",
   "metadata": {
    "ExecuteTime": {
     "end_time": "2025-05-11T23:00:53.158627Z",
     "start_time": "2025-05-11T23:00:52.983026Z"
    }
   },
   "source": [
    "sns.scatterplot(data=df_train, x=\"log(Gold close)\", y=\"log(Pred_Gold_Close)\")\n",
    "plt.title(\"Log-Scale: Actual vs Predicted Gold Closing Prices\", fontsize=16)\n",
    "plt.xlabel(\"log(Actual Gold Close)\", fontsize=12)\n",
    "plt.ylabel(\"log(Predicted Gold Close)\", fontsize=12)\n",
    "plt.grid(True, linestyle='--', alpha=0.6)\n",
    "plt.tight_layout()\n",
    "plt.show()\n"
   ],
   "outputs": [
    {
     "data": {
      "text/plain": [
       "<Figure size 640x480 with 1 Axes>"
      ],
      "image/png": "[encoded data removed]"
     },
     "metadata": {},
     "output_type": "display_data"
    }
   ],
   "execution_count": 51
  }
 ],
 "metadata": {
  "kernelspec": {
   "display_name": "Python 3 (ipykernel)",
   "language": "python",
   "name": "python3"
  }
 },
 "nbformat": 5,
 "nbformat_minor": 9
}
